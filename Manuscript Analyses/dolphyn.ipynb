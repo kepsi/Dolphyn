{
 "cells": [
  {
   "cell_type": "code",
   "execution_count": 1,
   "id": "eedbac4e",
   "metadata": {
    "tags": []
   },
   "outputs": [],
   "source": [
    "MY_SEED = 55\n",
    "\n",
    "import sys, os\n",
    "sys.path.insert(0, os.path.abspath('../dolphyn'))\n",
    "import dolphyn as D\n",
    "\n",
    "import pandas as pd\n",
    "import numpy as np\n",
    "\n",
    "import matplotlib.pyplot as plt\n",
    "\n",
    "from sklearn import metrics\n",
    "from sklearn.metrics import precision_recall_curve\n",
    "from sklearn.metrics import roc_curve\n"
   ]
  },
  {
   "cell_type": "code",
   "execution_count": 7,
   "id": "adcadfa5-7acb-49f9-b2e1-82ac05deab3c",
   "metadata": {},
   "outputs": [
    {
     "data": {
      "text/plain": [
       "<module 'dolphyn' from '/home/anna/project/phageomeLib/Public/dolphyn/dolphyn.py'>"
      ]
     },
     "execution_count": 7,
     "metadata": {},
     "output_type": "execute_result"
    }
   ],
   "source": [
    "import imp\n",
    "imp.reload(D)"
   ]
  },
  {
   "cell_type": "code",
   "execution_count": 3,
   "id": "22038874",
   "metadata": {},
   "outputs": [],
   "source": [
    "pd.set_option(\"display.max_rows\", 200)\n",
    "pd.set_option(\"display.max_columns\", 50) "
   ]
  },
  {
   "cell_type": "code",
   "execution_count": 4,
   "id": "e85f7a84",
   "metadata": {},
   "outputs": [],
   "source": [
    "#original_seqs = \"HQprevalent_northamerica_phages_woX.faa\""
   ]
  },
  {
   "cell_type": "code",
   "execution_count": 5,
   "id": "ebb30edb",
   "metadata": {},
   "outputs": [],
   "source": [
    "feat, labs = D.getPEDSTrainingSet(15)"
   ]
  },
  {
   "cell_type": "code",
   "execution_count": 9,
   "id": "84335f11",
   "metadata": {},
   "outputs": [
    {
     "name": "stdout",
     "output_type": "stream",
     "text": [
      "AUC Test: 0.6825320512820513\n",
      "AUC OOB: 0.7617274361199973\n",
      "AUC Whole: 0.9901316131042002 \n",
      "\n",
      "Accuracy: 0.651685393258427\n",
      "Precision: 0.3870967741935484\n",
      "Recall: 0.5\n",
      "F1: 0.43636363636363634\n",
      "Confusion Matrix:\n",
      " [[92 38]\n",
      " [24 24]]\n"
     ]
    },
    {
     "data": {
      "image/png": "[encoded data removed]",
      "text/plain": [
       "<Figure size 432x288 with 1 Axes>"
      ]
     },
     "metadata": {
      "needs_background": "light"
     },
     "output_type": "display_data"
    }
   ],
   "source": [
    "# train the model\n",
    "\n",
    "clf, splitsets = D.initEpiPredictor(epi_size = 15, testset_size = 0.05)\n",
    "\n",
    "(X_test, y_test), (X_train, y_train) = splitsets\n",
    "\n",
    "y_pred_classes =clf.predict_proba(X_test)\n",
    "y_pred = np.array([classes[1] for classes in y_pred_classes])\n",
    "y_labs_classes =clf.predict_proba(feat)\n",
    "pred_labs = np.array([classes[1] for classes in y_labs_classes])\n",
    "pred_train = np.array(clf.oob_decision_function_)[:,1]\n",
    "\n",
    "print(\"AUC Test:\",metrics.roc_auc_score(y_test, y_pred))\n",
    "print(\"AUC OOB:\",metrics.roc_auc_score(y_train, pred_train))\n",
    "print(\"AUC Whole:\",metrics.roc_auc_score(labs, pred_labs),\"\\n\")\n",
    "\n",
    "y_pred_bin =(y_pred>0.5)\n",
    "print(\"Accuracy:\",metrics.accuracy_score(y_test, y_pred_bin))\n",
    "print(\"Precision:\",metrics.precision_score(y_test, y_pred_bin))\n",
    "print(\"Recall:\",metrics.recall_score(y_test, y_pred_bin))\n",
    "print(\"F1:\",metrics.f1_score(y_test, y_pred_bin))\n",
    "\n",
    "print(\"Confusion Matrix:\\n\",metrics.confusion_matrix(y_test, y_pred_bin))\n",
    "\n",
    "fig_roc, ax_roc = plt.subplots()\n",
    "fpr, tpr, _ = roc_curve(y_test, y_pred)\n",
    "fproob, tproob, _ = roc_curve(y_train, pred_train)\n",
    "fprwhole, tprwhole, _ = roc_curve(labs, pred_labs)\n",
    "ax_roc.plot(fpr, tpr, label='Testset')\n",
    "ax_roc.plot(fproob, tproob, label='OOB')\n",
    "ax_roc.plot(fprwhole, tprwhole, label='Whole')\n",
    "ax_roc.plot([0, 1], [0, 1], linestyle='--', label='No Skill')\n",
    "f_score = y_test.value_counts()[1]/len(y_test)\n",
    "plt.ylim([0.0, 1.05])\n",
    "plt.savefig('RF_testset_ROC_novel.pdf')  \n",
    "ax_roc.legend()\n",
    "plt.show()"
   ]
  },
  {
   "cell_type": "code",
   "execution_count": 57,
   "id": "791f6735",
   "metadata": {},
   "outputs": [
    {
     "name": "stdout",
     "output_type": "stream",
     "text": [
      "\n",
      "Top 20 features\n",
      "\n",
      " d_S                  0.017301\n",
      "sc_polaruncharged    0.015795\n",
      "sc_poseleccharged    0.015475\n",
      "d_K                  0.014419\n",
      "sc_hydrophobic       0.013685\n",
      "sc_negeleccharged    0.013019\n",
      "d_KK                 0.012249\n",
      "d_I                  0.011053\n",
      "A                    0.009609\n",
      "S                    0.009584\n",
      "d_KS                 0.009584\n",
      "d_P                  0.009524\n",
      "P                    0.009435\n",
      "K                    0.009433\n",
      "D                    0.009240\n",
      "E                    0.009190\n",
      "L                    0.008843\n",
      "V                    0.008445\n",
      "d_SK                 0.008332\n",
      "T                    0.008249\n",
      "dtype: float64 \n",
      "\n"
     ]
    }
   ],
   "source": [
    "#### Important Features for Prediction Module\n",
    "\n",
    "clf, _ = D.initEpiPredictor(epi_size = 15, random_state=55)\n",
    "\n",
    "feature_imp = pd.Series(clf.feature_importances_,index=X.columns).sort_values(ascending=False)\n",
    "top = 20\n",
    "print(\"\\nTop\",top,\"features\\n\\n\",feature_imp[:top], \"\\n\")\n"
   ]
  }
 ],
 "metadata": {
  "kernelspec": {
   "display_name": "Python 3",
   "language": "python",
   "name": "python3"
  },
  "language_info": {
   "codemirror_mode": {
    "name": "ipython",
    "version": 3
   },
   "file_extension": ".py",
   "mimetype": "text/x-python",
   "name": "python",
   "nbconvert_exporter": "python",
   "pygments_lexer": "ipython3",
   "version": "3.8.10"
  }
 },
 "nbformat": 4,
 "nbformat_minor": 5
}
