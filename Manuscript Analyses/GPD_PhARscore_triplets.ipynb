{
 "cells": [
  {
   "cell_type": "code",
   "execution_count": 2,
   "id": "e8749ff3",
   "metadata": {
    "tags": []
   },
   "outputs": [],
   "source": [
    "library(stringr)\n",
    "library(ggplot2)\n",
    "library(dplyr)\n",
    "library(reshape2)\n",
    "library(tibble)\n",
    "\n",
    "options(repr.matrix.max.rows=10, repr.matrix.max.cols=15)\n",
    "\n",
    "slib = \"validationDS\"\n",
    "\n",
    "theme_set(theme_minimal())\n",
    "theme_update(axis.text.x = element_text(angle = 90, vjust = 0.5, hjust=1))\n",
    "theme_update(text = element_text(size = 17))\n",
    "\n",
    "#Functions\n",
    "\n",
    "get_genus <- function(taxon_string){\n",
    "    if(taxon_string == \"\") {\n",
    "        ret = NA } else {\n",
    "    bacs = str_split(taxon_string, \",\")[[1]]\n",
    "    ret = unlist(unique(lapply(str_split(bacs,\"/\"),`[[`, 5)))[1]\n",
    "    if(grepl(\"acteroides\", ret, fixed=TRUE)) ret = \"Bacteroides_mix\"\n",
    "        }\n",
    "    return (ret)\n",
    "    }\n",
    "\n",
    "get_phylum <- function(taxon_string){\n",
    "    if(taxon_string == \"\") {\n",
    "        ret = NA } else {\n",
    "    bacs = str_split(taxon_string, \",\")[[1]]\n",
    "    ret = unlist(unique(lapply(str_split(bacs,\"/\"),`[[`, 1)))[1]\n",
    "        }\n",
    "    return (ret)\n",
    "    }\n",
    "\n",
    "convert_samplenames = function(here){\n",
    "    here %>% substring(3,3) -> plate\n",
    "    here %>% str_sub(-1,-1) %>% gsub(\"1\",\"\",.) %>% gsub(\"2\",\".2\",.) -> duplicate\n",
    "    here %>% gsub(\"-\",\".\",.) %>% str_sub(5,-2) %>% paste0(.,duplicate,\"X19\",plate) %>% \n",
    "    return\n",
    "}"
   ]
  },
  {
   "cell_type": "code",
   "execution_count": 7,
   "id": "adb549af-7e2d-4f33-8d18-2a49581ff0e4",
   "metadata": {
    "tags": []
   },
   "outputs": [],
   "source": [
    "# combine all phage annotation data\n",
    "\n",
    "GPD_anno = read.table(\"../data/GPD_annotation_pilotphages.csv\", sep = \",\", header=TRUE, comment.char = \"\", row.names = 1)\n",
    "GPD_anno %>% mutate(NorthAmcaFreq = str_count(Continents_detected, \"North America\")) %>% \n",
    "select(Source, GPD_VC, Size, Predicted_phage_taxon, checkV_prophage, Novel, NorthAmcaFreq, Host_range_taxon) %>% rownames_to_column(\"taxon_id\") -> GPD_anno\n",
    "\n",
    "GPD_anno %>% select(taxon_id,GPD_VC) %>% unique() %>%\n",
    "select(GPD_VC) %>% table() %>% as.data.frame() %>% rename(GPD_VC = \".\") %>% \n",
    "rename(cluster_phages = \"Freq\") %>% subset(cluster_phages==1) %>% pull(GPD_VC) -> singleclusters\n",
    "\n",
    "GPD_anno %>% mutate(GPD_VC = ifelse(GPD_VC %in% singleclusters, NA, GPD_VC)) %>%\n",
    "mutate(GPD_VC = as.factor(GPD_VC)) %>%\n",
    "mutate(Host_Genus = sapply(Host_range_taxon,get_genus)) %>% mutate(Host_Genus = as.factor(Host_Genus)) %>%\n",
    "mutate(Host_Phylum = sapply(Host_range_taxon,get_phylum)) %>% mutate(Host_Phylum = as.factor(Host_Phylum)) %>%\n",
    "mutate(Predicted_phage_taxon = droplevels(Predicted_phage_taxon,\"\")) -> \n",
    "GPD_anno\n",
    "\n",
    "blast_anno = read.table(\"../data/pilotphages_blast_annotation.csv\", sep = \",\", header=TRUE, row.names = 1) \n",
    "paste(\"Blast\", colnames(blast_anno), sep = \"_\") -> colnames(blast_anno)\n",
    "blast_anno %>% rownames_to_column(\"taxon_id\") %>% merge(GPD_anno) -> GPD_anno\n",
    "\n",
    "anno_pep = read.table(\"../data/DolphynLa_001_Universal.tsv\", header = TRUE, sep = \"\\t\", row.names = 2)\n",
    "anno_pep = anno_pep[anno_pep$sublibrary != \"validationDS\",]\n",
    "anno_pep %>% \n",
    "    select(c(\"sublibrary\",\"pro_len\", \"pro_id\", \"pep_id\",\"pos_start\", \"pos_end\", \"taxon_id\", \"pro_id_all\")) %>% \n",
    "    mutate(across(where(is.factor), as.character)) -> anno_pep\n",
    "\n",
    "anno_pep %>% select(pep_id,pro_id_all) %>% distinct() %>% \n",
    "    mutate(pro_id_all = gsub(\"[{} ]\",\"\",pro_id_all)) %>%\n",
    "    mutate(pro_id_all = strsplit(pro_id_all,\",\")) -> peptide_clusters_map\n",
    "p = peptide_clusters_map$pro_id_all\n",
    "names(p) <- peptide_clusters_map$pep_id\n",
    "protein_clusters = stack(p)\n",
    "anno_pep %>% merge(protein_clusters, by.x = 'pep_id', by.y = \"ind\", all = TRUE) %>% \n",
    "    rename(pro_id_representative = pro_id) %>% rename(pro_id = values) %>% select(-pro_id_all) -> anno_pep\n",
    "anno_pep %>% select(-taxon_id) %>%  mutate(taxon_id = sub(\"_[^_]+$\", \"\", pro_id)) -> anno_pep\n",
    "\n",
    "anno_pep %>% group_by(taxon_id, sublibrary) %>% \n",
    "mutate(prot_per_phage= length(unique(pro_id))) %>% \n",
    "mutate(peps_per_phage= length(unique(pep_id))) %>%\n",
    "distinct(pro_id, pro_len, prot_per_phage, peps_per_phage) %>% mutate(phage_len = sum(pro_len)) %>%\n",
    "ungroup %>%\n",
    "distinct(taxon_id, sublibrary, prot_per_phage, peps_per_phage, phage_len) %>%\n",
    "merge(GPD_anno) %>% \n",
    "mutate(library = gsub(sublibrary,pattern = \"dolphin\", replacement= \"dolphyn\")) %>%\n",
    "select(-sublibrary) -> phage_meta\n",
    "\n",
    "phage_meta %>% mutate(bin_myoviridae = as.factor(ifelse(Predicted_phage_taxon %in% \"Myoviridae\", \"True\", \"False\"))) %>%\n",
    "mutate(bin_Escherichia = as.factor(ifelse(Host_Genus %in% \"Escherichia\", \"True\", \"False\"))) -> phage_meta\n",
    "\n",
    "#some solumns are different in the different libraries\n",
    "rbind(phage_meta, phage_meta %>% subset(library == \"pepsyn\") %>% mutate(library = \"all\")) -> phage_meta\n",
    "rbind(phage_meta, phage_meta %>% mutate(library = paste0(library,\"_7\"))) -> phage_meta"
   ]
  },
  {
   "cell_type": "code",
   "execution_count": 10,
   "id": "e997aa35-1238-4ed7-ab13-a74d60a65318",
   "metadata": {
    "tags": []
   },
   "outputs": [],
   "source": [
    "meta = read.table(\"../data/Helmsley_VRC_metadata_121721.csv\", header = TRUE, sep = \",\", row.names = 1)\n",
    "meta[,c(\"Age\",\"Sex\",\"Race\")] %>% rownames_to_column(\"sample_id\") -> meta\n",
    "\n",
    "filenames_pre = \"20230123 - \"\n",
    "filenames_post = \" - max 7 iterations\"\n",
    "\n",
    "phar_dolphyn_194_7 = readRDS(paste0(\"../data/\",filenames_pre , \"phip194_PhARscores_dolphyn\" , filenames_post , \".rds\"))\n",
    "phar_dolphyn_195_7 = readRDS(paste0(\"../data/\" , filenames_pre , \"phip195_PhARscores_dolphyn\" , filenames_post , \".rds\"))\n",
    "phar = rbind(phar_dolphyn_194_7,phar_dolphyn_195_7) %>% mutate(library = \"dolphyn_7\") \n",
    "\n",
    "phar_pepsyn_194_7 = readRDS(paste0(\"../data/\" , filenames_pre , \"phip194_PhARscores_pepsyn\" , filenames_post , \".rds\"))\n",
    "phar_pepsyn_195_7 = readRDS(paste0(\"../data/\" , filenames_pre , \"phip195_PhARscores_pepsyn\" , filenames_post , \".rds\"))\n",
    "rbind(phar_pepsyn_194_7,phar_pepsyn_195_7) %>% mutate(library = \"pepsyn_7\") %>%\n",
    "rbind(phar) -> phar\n",
    "\n",
    "phar %>%\n",
    "    mutate(hm_value = ifelse(p_val > 2, vir_score, NA)) %>%\n",
    "    mutate(agg_score = p_val * vir_score) %>%\n",
    "    mutate(cut_score = ifelse(p_val > 2, vir_score, 0)) %>%\n",
    "    mutate(vir_score_cut = case_when(\n",
    "         vir_score > 1 ~ 1,\n",
    "         vir_score < -1 ~ -1,\n",
    "         TRUE ~ vir_score)) %>%\n",
    "    mutate(vir_score_bin = ifelse(vir_score > 1, 1, 0)) %>%\n",
    "    mutate(sample_id = gsub(sample_id,pattern = \"-20A20G-\", replacement= \"\")) %>%\n",
    "    mutate(sample_id = gsub(sample_id,pattern = \"-VRC-Control-VRC\", replacement= \"\")) %>%\n",
    "    mutate(plate = as.factor(substr(sample_id,1,3))) %>%\n",
    "    mutate(sample = sample_id) %>%\n",
    "    mutate(sample_id = gsub(str_sub(sample_id,5,-2),pattern = \"-\", replacement= \".\")) -> \n",
    "phar\n",
    "\n",
    "phar %>% merge(meta, all.x = TRUE) %>% merge(phage_meta, all.x = TRUE) %>% \n",
    "mutate(p_val_re = 10^-p_val) -> phar"
   ]
  },
  {
   "cell_type": "code",
   "execution_count": 13,
   "id": "6b8dfa6e-c0ed-4d36-aa3c-2956677a6854",
   "metadata": {
    "tags": []
   },
   "outputs": [],
   "source": [
    "anno_pep = read.table(\"../data/DolphynLa_001_Universal.tsv\", header = TRUE, sep = \"\\t\", row.names = 2)\n",
    "anno_pep = anno_pep[anno_pep$sublibrary != \"validationDS\",]\n",
    "anno_pep %>% \n",
    "    select(c(\"sublibrary\",\"pro_len\", \"pro_id\", \"pep_id\",\"pos_start\", \"pos_end\", \"taxon_id\", \"pro_id_all\")) %>% \n",
    "    mutate(across(where(is.factor), as.character)) -> anno_pep\n",
    "# Hit Foldchange Data\n",
    "files <- list.files(\"../data/\", pattern = \"\\\\_DolphynLa_001_Hits_foldchange.tsv$\",  recursive = TRUE)\n",
    "fc <-  read.table(paste0(\"../data/\",files[1]), header=TRUE, row.names = 1)\n",
    "fc <- cbind(fc, read.table(paste0(\"../data/\",files[2]), header=TRUE, row.names = 1))  \n",
    "fc %>% select(!contains(\"BEADS_ONLY\")) -> fc\n",
    "fc = fc[rownames(anno_pep),]\n",
    "lfc_org = log(fc)\n",
    "\n",
    "# cleaning up sample names\n",
    "anno_samples = data.frame(org = colnames(lfc_org))\n",
    "anno_samples = cbind(anno_samples, str_split_fixed(anno_samples$org, \"\\\\.\",4))\n",
    "anno_samples$sampleID = anno_samples$`4`\n",
    "anno_samples %>% mutate(sampleID = gsub(\"Pre.Therapy_.\", \"\", sampleID)) %>% mutate(sampleID = gsub(\".20A20G.1\", \"\", sampleID)) %>% \n",
    "                mutate(sampleID = gsub(\".20A20G\", \"\", sampleID)) %>% mutate(sampleID = gsub(\"VRC.\", \"\", sampleID)) %>% \n",
    "                mutate(sampleID = gsub(\"IBD.Control.\", \"\", sampleID)) %>% mutate(sampleID = gsub(\"_\", \"\", sampleID)) -> anno_samples\n",
    "rownames(anno_samples) = paste0(anno_samples$sampleID,anno_samples$`1`)\n",
    "colnames(anno_samples) = c(\"original\", \"plate\", \"dataset\", \"group\", \"description\", \"sampleID\")\n",
    "colnames(lfc_org) = rownames(anno_samples)"
   ]
  },
  {
   "cell_type": "code",
   "execution_count": 14,
   "id": "6d5201af-d232-45a2-91fc-b8f741cef7ad",
   "metadata": {},
   "outputs": [
    {
     "name": "stderr",
     "output_type": "stream",
     "text": [
      "Warning message:\n",
      "“`funs()` was deprecated in dplyr 0.8.0.\n",
      "Please use a list of either functions or lambdas: \n",
      "\n",
      "  # Simple named list: \n",
      "  list(mean = mean, median = median)\n",
      "\n",
      "  # Auto named with `tibble::lst()`: \n",
      "  tibble::lst(mean, median)\n",
      "\n",
      "  # Using lambdas\n",
      "  list(~ mean(., trim = .2), ~ median(., na.rm = TRUE))\n",
      "\u001b[90mThis warning is displayed once every 8 hours.\u001b[39m\n",
      "\u001b[90mCall `lifecycle::last_lifecycle_warnings()` to see where this warning was generated.\u001b[39m”\n"
     ]
    }
   ],
   "source": [
    "phar %>% subset(library == \"pepsyn_7\") %>% subset(! taxon_id %in% c(\"uvig_250342\",\"uvig_358797\",\"uvig_205260\")) %>% \n",
    "group_by(taxon_id) %>% \n",
    "summarise_at(vars(vir_score), funs(mean = mean, sum = sum, max = max)) %>%\n",
    "arrange(desc(max)) %>% select(taxon_id) %>% unique %>% head(4) %>% unlist -> top_score_phage\n",
    "\n",
    "phar %>% subset(library == \"pepsyn_7\") %>% \n",
    "group_by(sample) %>% \n",
    "summarise_at(vars(vir_score), funs(mean = mean, sum = sum, max = max)) %>%\n",
    "arrange(desc(max)) %>% head(5) %>% select(sample) %>% unique %>% \n",
    "sapply(convert_samplenames) %>% as.list %>% unlist -> top_score_sample"
   ]
  },
  {
   "cell_type": "code",
   "execution_count": 15,
   "id": "d87cf028-dc17-4d30-9d47-fae6a8b93d57",
   "metadata": {},
   "outputs": [
    {
     "data": {
      "text/html": [
       "<style>\n",
       ".dl-inline {width: auto; margin:0; padding: 0}\n",
       ".dl-inline>dt, .dl-inline>dd {float: none; width: auto; display: inline-block}\n",
       ".dl-inline>dt::after {content: \":\\0020\"; padding-right: .5ex}\n",
       ".dl-inline>dt:not(:first-of-type) {padding-left: .5ex}\n",
       "</style><dl class=dl-inline><dt>taxon_id1</dt><dd>'uvig_395307'</dd><dt>taxon_id2</dt><dd>'uvig_356750'</dd><dt>taxon_id3</dt><dd>'uvig_396772'</dd><dt>taxon_id4</dt><dd>'uvig_356226'</dd></dl>\n"
      ],
      "text/latex": [
       "\\begin{description*}\n",
       "\\item[taxon\\textbackslash{}\\_id1] 'uvig\\_395307'\n",
       "\\item[taxon\\textbackslash{}\\_id2] 'uvig\\_356750'\n",
       "\\item[taxon\\textbackslash{}\\_id3] 'uvig\\_396772'\n",
       "\\item[taxon\\textbackslash{}\\_id4] 'uvig\\_356226'\n",
       "\\end{description*}\n"
      ],
      "text/markdown": [
       "taxon_id1\n",
       ":   'uvig_395307'taxon_id2\n",
       ":   'uvig_356750'taxon_id3\n",
       ":   'uvig_396772'taxon_id4\n",
       ":   'uvig_356226'\n",
       "\n"
      ],
      "text/plain": [
       "    taxon_id1     taxon_id2     taxon_id3     taxon_id4 \n",
       "\"uvig_395307\" \"uvig_356750\" \"uvig_396772\" \"uvig_356226\" "
      ]
     },
     "metadata": {},
     "output_type": "display_data"
    }
   ],
   "source": [
    "top_score_phage"
   ]
  },
  {
   "cell_type": "code",
   "execution_count": 16,
   "id": "b9a6f909-53a5-4e7d-a2fd-06119af1b782",
   "metadata": {},
   "outputs": [],
   "source": [
    "ap = read.table(\"../data/DolphynLa_001_Universal.tsv\", header = TRUE, sep = \"\\t\", row.names = 2, stringsAsFactors=FALSE) "
   ]
  },
  {
   "cell_type": "code",
   "execution_count": 17,
   "id": "08f56c59-04ff-4af4-9411-f27ebfc68824",
   "metadata": {
    "tags": []
   },
   "outputs": [],
   "source": [
    "ap %>% \n",
    "select(pep_id, sublibrary,pep_aa) %>% subset(sublibrary == \"dolphin\") %>%\n",
    "mutate(pep1 = str_split(pep_aa, \"GGGGS\", simplify=TRUE)[,1])%>%\n",
    "mutate(pep2 = str_split(pep_aa, \"GGGGS\", simplify=TRUE)[,2])%>%\n",
    "mutate(pep3 = gsub(\"\\\\*\",\"\",str_split(pep_aa, \"GGGGS\", simplify=TRUE)[,3],)) %>%\n",
    "melt(id.vars = c(\"pep_id\",\"sublibrary\",\"pep_aa\"), value.name = \"sub_aa\", variable.name = \"pep_no\") %>%\n",
    "merge(ap %>% subset(sublibrary == \"dolphinepitopes\") %>% mutate(pep_aa = str_sub(pep_aa,6,20)) %>% select(pep_id,pep_aa),\n",
    "      by.x=\"sub_aa\", by.y = \"pep_aa\") -> dol_epi_map"
   ]
  },
  {
   "cell_type": "code",
   "execution_count": 18,
   "id": "0936ef44-9dd6-420b-8ffc-cac95ccd2a97",
   "metadata": {},
   "outputs": [],
   "source": [
    "rbind(dol_epi_map %>% select(pep_id.x) %>% unique() %>% rename(triplet_id = pep_id.x) %>% mutate(pep_id = triplet_id) %>% mutate(pep_no = \"triplet\"),\n",
    "      dol_epi_map %>% select(pep_id.y, pep_id.x, pep_no) %>% rename(pep_id = pep_id.y) %>% rename(triplet_id = pep_id.x)) -> dol_epi_map"
   ]
  },
  {
   "cell_type": "code",
   "execution_count": 19,
   "id": "95ae9cbb-8bd2-4dd3-9f2a-e71591c733a4",
   "metadata": {},
   "outputs": [],
   "source": [
    "samples_to_check = top_score_sample[1:4]\n",
    "lfc_org %>% select(all_of(samples_to_check)) %>% rownames_to_column(\"pep_id2\") %>% \n",
    "melt(id.vars = \"pep_id2\", value.name=\"lfc\", variable.name = \"sample\") -> tdf\n",
    "anno_pep %>% select(c(\"sublibrary\", \"pro_id\", \"pep_id\", \"taxon_id\")) %>% \n",
    "subset(sublibrary != \"pepsyn\") %>% \n",
    "#subset(taxon_id == top_score_phage[1]) %>% \n",
    "rownames_to_column(\"pep_id2\") %>% \n",
    "merge(tdf) %>% mutate(across(where(is.factor), as.character)) -> tdf "
   ]
  },
  {
   "cell_type": "code",
   "execution_count": 20,
   "id": "71f57ce2-52a6-4589-ad8f-af2729465fba",
   "metadata": {},
   "outputs": [],
   "source": [
    "merge(dol_epi_map,tdf) %>% mutate(tripletSample = paste(triplet_id,sample)) %>% \n",
    "select(taxon_id,pro_id,lfc,pep_no,tripletSample) %>%\n",
    "mutate(lfc_bin = lfc >0) %>%\n",
    "group_by(tripletSample) %>% summarise_at(vars(lfc_bin), funs(sum=sum, n= n())) %>%\n",
    "subset(sum>1) %>% select(tripletSample) %>% unlist() -> positive_triplets\n",
    "\n",
    "merge(dol_epi_map,tdf) %>% mutate(tripletSample = paste(triplet_id,sample)) %>% \n",
    "select(taxon_id,pro_id,lfc,pep_no,triplet_id,tripletSample, sample) %>%\n",
    "subset(tripletSample %in% positive_triplets) %>% \n",
    "mutate(lfc_bin = lfc >0) %>%\n",
    "arrange(desc(lfc_bin), desc(lfc)) %>% \n",
    "mutate(triplet_id = factor(triplet_id, levels = unique(triplet_id))) -> temp"
   ]
  },
  {
   "cell_type": "code",
   "execution_count": 21,
   "id": "4da1d555-0c14-4a82-844d-e915eda48fc4",
   "metadata": {},
   "outputs": [
    {
     "data": {
      "text/html": [
       "<strong>null device:</strong> 1"
      ],
      "text/latex": [
       "\\textbf{null device:} 1"
      ],
      "text/markdown": [
       "**null device:** 1"
      ],
      "text/plain": [
       "null device \n",
       "          1 "
      ]
     },
     "metadata": {},
     "output_type": "display_data"
    },
    {
     "data": {
      "image/png": "[encoded data removed]",
      "text/plain": [
       "plot without title"
      ]
     },
     "metadata": {
      "image/png": {
       "height": 180,
       "width": 1320
      }
     },
     "output_type": "display_data"
    }
   ],
   "source": [
    "options(repr.plot.width=22, repr.plot.height=3)\n",
    "\n",
    "temp %>%\n",
    "ggplot(aes(triplet_id,pep_no)) + geom_tile(aes(fill = lfc)) + scale_fill_gradient(low = \"lightblue\", high = \"black\") + \n",
    "theme(axis.text.x=element_blank(), panel.grid.major.x = element_blank(), panel.grid.major.y = element_blank()) +\n",
    "facet_grid(.~sample, scales= \"free\")"
   ]
  },
  {
   "cell_type": "code",
   "execution_count": 14,
   "id": "22fe1162-1812-4edf-b7e3-bb0fd8534a9c",
   "metadata": {},
   "outputs": [
    {
     "data": {
      "image/png": "[encoded data removed]",
      "text/plain": [
       "plot without title"
      ]
     },
     "metadata": {
      "image/png": {
       "height": 180,
       "width": 1320
      }
     },
     "output_type": "display_data"
    }
   ],
   "source": [
    "options(repr.plot.width=22, repr.plot.height=3)\n",
    "\n",
    "merge(dol_epi_map,tdf) %>% mutate(tripletSample = paste(triplet_id,sample)) %>% \n",
    "select(taxon_id,pro_id,lfc,pep_no,tripletSample) %>%\n",
    "subset(pep_no == \"triplet\") %>% subset(lfc > 0) %>% select(tripletSample) %>% unlist() -> non_zero_triplets\n"
   ]
  },
  {
   "cell_type": "code",
   "execution_count": 15,
   "id": "e29d7ce1-fe35-4a3c-880a-f8b7b438e621",
   "metadata": {},
   "outputs": [
    {
     "data": {
      "image/png": "[encoded data removed]",
      "text/plain": [
       "plot without title"
      ]
     },
     "metadata": {
      "image/png": {
       "height": 180,
       "width": 1320
      }
     },
     "output_type": "display_data"
    }
   ],
   "source": [
    "options(repr.plot.width=22, repr.plot.height=3)\n",
    "\n",
    "merge(dol_epi_map,tdf) %>% \n",
    "subset(sample == \"S3.0153.01X194\")%>% mutate(tripletSample = paste(triplet_id,sample)) %>% \n",
    "select(taxon_id,pro_id,lfc,pep_no,tripletSample) %>%\n",
    "mutate(lfc_bin = lfc >0) %>%\n",
    "group_by(tripletSample) %>% summarise_at(vars(lfc_bin), funs(sum=sum, n= n())) %>%\n",
    "subset(sum>0) %>% select(tripletSample) %>% unlist() -> positive_triplets\n"
   ]
  },
  {
   "cell_type": "code",
   "execution_count": 22,
   "id": "8130e9b2-13eb-4b38-9a0c-c86471e911d8",
   "metadata": {},
   "outputs": [],
   "source": [
    "lfc_org %>% rownames_to_column(\"pep_id2\") %>%\n",
    "merge(anno_pep %>% select(c(\"sublibrary\", \"pro_id\", \"pep_id\", \"taxon_id\"))%>% rownames_to_column(\"pep_id2\")) %>%\n",
    "subset(sublibrary != \"pepsyn\") %>% \n",
    "merge(dol_epi_map) %>% \n",
    "melt(id.vars = c(\"sublibrary\", \"pro_id\", \"pep_id\", \"taxon_id\",\"pep_id2\",\"triplet_id\",\"pep_no\"), value.name=\"lfc\", variable.name = \"sample\") %>% \n",
    "mutate(tripletSample = paste(triplet_id,sample)) -> tdf_all"
   ]
  },
  {
   "cell_type": "code",
   "execution_count": 26,
   "id": "8dd996a9-66d6-4ea3-8367-e68452536881",
   "metadata": {},
   "outputs": [
    {
     "data": {
      "text/html": [
       "<table class=\"dataframe\">\n",
       "<caption>A data.frame: 3727443 × 10</caption>\n",
       "<thead>\n",
       "\t<tr><th scope=col>sublibrary</th><th scope=col>pro_id</th><th scope=col>pep_id</th><th scope=col>taxon_id</th><th scope=col>pep_id2</th><th scope=col>triplet_id</th><th scope=col>pep_no</th><th scope=col>sample</th><th scope=col>lfc</th><th scope=col>tripletSample</th></tr>\n",
       "\t<tr><th scope=col>&lt;chr&gt;</th><th scope=col>&lt;chr&gt;</th><th scope=col>&lt;chr&gt;</th><th scope=col>&lt;chr&gt;</th><th scope=col>&lt;chr&gt;</th><th scope=col>&lt;chr&gt;</th><th scope=col>&lt;chr&gt;</th><th scope=col>&lt;fct&gt;</th><th scope=col>&lt;dbl&gt;</th><th scope=col>&lt;chr&gt;</th></tr>\n",
       "</thead>\n",
       "<tbody>\n",
       "\t<tr><td>dolphin</td><td>uvig_355478_29</td><td>dolphin_1001031390910937997</td><td>uvig_355478</td><td>DolphynLa_001_ATGGGCCTCGAACTGGTTAAGATGTTGCTCGACGTGAAAACTAAAGGTGG</td><td>dolphin_1001031390910937997</td><td>triplet</td><td>SMART003X194</td><td>0</td><td>dolphin_1001031390910937997 SMART003X194</td></tr>\n",
       "\t<tr><td>dolphin</td><td>uvig_355286_47</td><td>dolphin_1001974258484100911</td><td>uvig_355286</td><td>DolphynLa_001_ACCGCTAAACAGCCGCAGTATGCAGCACTGTTGACCCAATATAAAGGTGG</td><td>dolphin_1001974258484100911</td><td>triplet</td><td>SMART003X194</td><td>0</td><td>dolphin_1001974258484100911 SMART003X194</td></tr>\n",
       "\t<tr><td>dolphin</td><td>uvig_356033_7 </td><td>dolphin_1003182168634213578</td><td>uvig_356033</td><td>DolphynLa_001_AAGTTGTCTACTGCAAAGCTTAAGCCGCTTAGGTACCTGAAATACGGTGG</td><td>dolphin_1003182168634213578</td><td>triplet</td><td>SMART003X194</td><td>0</td><td>dolphin_1003182168634213578 SMART003X194</td></tr>\n",
       "\t<tr><td>dolphin</td><td>uvig_355286_8 </td><td>dolphin_1003281628142369923</td><td>uvig_355286</td><td>DolphynLa_001_AAAAATGGTGAATTCCTGGAATGGGCCGAGTATAGAGGATGGCGCGGCGG</td><td>dolphin_1003281628142369923</td><td>triplet</td><td>SMART003X194</td><td>0</td><td>dolphin_1003281628142369923 SMART003X194</td></tr>\n",
       "\t<tr><td>dolphin</td><td>uvig_356033_28</td><td>dolphin_1003390492466174482</td><td>uvig_356033</td><td>DolphynLa_001_ACCGGCGACTTTCGCGGTGCATGGGATGGCATTAAGTCAATTTTCGGCGG</td><td>dolphin_1003390492466174482</td><td>triplet</td><td>SMART003X194</td><td>0</td><td>dolphin_1003390492466174482 SMART003X194</td></tr>\n",
       "\t<tr><td>⋮</td><td>⋮</td><td>⋮</td><td>⋮</td><td>⋮</td><td>⋮</td><td>⋮</td><td>⋮</td><td>⋮</td><td>⋮</td></tr>\n",
       "\t<tr><td>dolphinepitopes</td><td>uvig_355854_33</td><td>dolphinepitopes_997758404587082812</td><td>uvig_355854</td><td>DolphynLa_001_GGGGGCGGTGGATCAACCGCGTCAAAGGAACAGTTAGCAGCCTGGCACAA</td><td>dolphin_5512961784471541455</td><td>pep3</td><td>SMART397X195</td><td>0</td><td>dolphin_5512961784471541455 SMART397X195</td></tr>\n",
       "\t<tr><td>dolphinepitopes</td><td>uvig_356792_41</td><td>dolphinepitopes_998209062551859471</td><td>uvig_356792</td><td>DolphynLa_001_GGTGGTGGTGGTTCGTTATCAATGTCACCTAAAGAGACAAATTATCGCGC</td><td>dolphin_362180758767367399 </td><td>pep2</td><td>SMART397X195</td><td>0</td><td>dolphin_362180758767367399 SMART397X195 </td></tr>\n",
       "\t<tr><td>dolphinepitopes</td><td>ivig_2475_39  </td><td>dolphinepitopes_998282101512657035</td><td>ivig_2475  </td><td>DolphynLa_001_GGCGGCGGAGGTTCAGCAGAGTGGTTAGAAGAACCGAAGCGTATTCCGGG</td><td>dolphin_5945177458264591888</td><td>pep2</td><td>SMART397X195</td><td>0</td><td>dolphin_5945177458264591888 SMART397X195</td></tr>\n",
       "\t<tr><td>dolphinepitopes</td><td>uvig_355854_47</td><td>dolphinepitopes_999000270348383792</td><td>uvig_355854</td><td>DolphynLa_001_GGTGGAGGTGGCAGCGAAACGATTGAGAAATTATGGGACCGGATCTTTGG</td><td>dolphin_6850243375807835426</td><td>pep3</td><td>SMART397X195</td><td>0</td><td>dolphin_6850243375807835426 SMART397X195</td></tr>\n",
       "\t<tr><td>dolphinepitopes</td><td>uvig_357534_1 </td><td>dolphinepitopes_999514897880406361</td><td>uvig_357534</td><td>DolphynLa_001_GGAGGGGGCGGATCGACCTTCCCGCAAATCTATAAAGTAAGTACCAAAGG</td><td>dolphin_8072266144464067831</td><td>pep2</td><td>SMART397X195</td><td>0</td><td>dolphin_8072266144464067831 SMART397X195</td></tr>\n",
       "</tbody>\n",
       "</table>\n"
      ],
      "text/latex": [
       "A data.frame: 3727443 × 10\n",
       "\\begin{tabular}{llllllllll}\n",
       " sublibrary & pro\\_id & pep\\_id & taxon\\_id & pep\\_id2 & triplet\\_id & pep\\_no & sample & lfc & tripletSample\\\\\n",
       " <chr> & <chr> & <chr> & <chr> & <chr> & <chr> & <chr> & <fct> & <dbl> & <chr>\\\\\n",
       "\\hline\n",
       "\t dolphin & uvig\\_355478\\_29 & dolphin\\_1001031390910937997 & uvig\\_355478 & DolphynLa\\_001\\_ATGGGCCTCGAACTGGTTAAGATGTTGCTCGACGTGAAAACTAAAGGTGG & dolphin\\_1001031390910937997 & triplet & SMART003X194 & 0 & dolphin\\_1001031390910937997 SMART003X194\\\\\n",
       "\t dolphin & uvig\\_355286\\_47 & dolphin\\_1001974258484100911 & uvig\\_355286 & DolphynLa\\_001\\_ACCGCTAAACAGCCGCAGTATGCAGCACTGTTGACCCAATATAAAGGTGG & dolphin\\_1001974258484100911 & triplet & SMART003X194 & 0 & dolphin\\_1001974258484100911 SMART003X194\\\\\n",
       "\t dolphin & uvig\\_356033\\_7  & dolphin\\_1003182168634213578 & uvig\\_356033 & DolphynLa\\_001\\_AAGTTGTCTACTGCAAAGCTTAAGCCGCTTAGGTACCTGAAATACGGTGG & dolphin\\_1003182168634213578 & triplet & SMART003X194 & 0 & dolphin\\_1003182168634213578 SMART003X194\\\\\n",
       "\t dolphin & uvig\\_355286\\_8  & dolphin\\_1003281628142369923 & uvig\\_355286 & DolphynLa\\_001\\_AAAAATGGTGAATTCCTGGAATGGGCCGAGTATAGAGGATGGCGCGGCGG & dolphin\\_1003281628142369923 & triplet & SMART003X194 & 0 & dolphin\\_1003281628142369923 SMART003X194\\\\\n",
       "\t dolphin & uvig\\_356033\\_28 & dolphin\\_1003390492466174482 & uvig\\_356033 & DolphynLa\\_001\\_ACCGGCGACTTTCGCGGTGCATGGGATGGCATTAAGTCAATTTTCGGCGG & dolphin\\_1003390492466174482 & triplet & SMART003X194 & 0 & dolphin\\_1003390492466174482 SMART003X194\\\\\n",
       "\t ⋮ & ⋮ & ⋮ & ⋮ & ⋮ & ⋮ & ⋮ & ⋮ & ⋮ & ⋮\\\\\n",
       "\t dolphinepitopes & uvig\\_355854\\_33 & dolphinepitopes\\_997758404587082812 & uvig\\_355854 & DolphynLa\\_001\\_GGGGGCGGTGGATCAACCGCGTCAAAGGAACAGTTAGCAGCCTGGCACAA & dolphin\\_5512961784471541455 & pep3 & SMART397X195 & 0 & dolphin\\_5512961784471541455 SMART397X195\\\\\n",
       "\t dolphinepitopes & uvig\\_356792\\_41 & dolphinepitopes\\_998209062551859471 & uvig\\_356792 & DolphynLa\\_001\\_GGTGGTGGTGGTTCGTTATCAATGTCACCTAAAGAGACAAATTATCGCGC & dolphin\\_362180758767367399  & pep2 & SMART397X195 & 0 & dolphin\\_362180758767367399 SMART397X195 \\\\\n",
       "\t dolphinepitopes & ivig\\_2475\\_39   & dolphinepitopes\\_998282101512657035 & ivig\\_2475   & DolphynLa\\_001\\_GGCGGCGGAGGTTCAGCAGAGTGGTTAGAAGAACCGAAGCGTATTCCGGG & dolphin\\_5945177458264591888 & pep2 & SMART397X195 & 0 & dolphin\\_5945177458264591888 SMART397X195\\\\\n",
       "\t dolphinepitopes & uvig\\_355854\\_47 & dolphinepitopes\\_999000270348383792 & uvig\\_355854 & DolphynLa\\_001\\_GGTGGAGGTGGCAGCGAAACGATTGAGAAATTATGGGACCGGATCTTTGG & dolphin\\_6850243375807835426 & pep3 & SMART397X195 & 0 & dolphin\\_6850243375807835426 SMART397X195\\\\\n",
       "\t dolphinepitopes & uvig\\_357534\\_1  & dolphinepitopes\\_999514897880406361 & uvig\\_357534 & DolphynLa\\_001\\_GGAGGGGGCGGATCGACCTTCCCGCAAATCTATAAAGTAAGTACCAAAGG & dolphin\\_8072266144464067831 & pep2 & SMART397X195 & 0 & dolphin\\_8072266144464067831 SMART397X195\\\\\n",
       "\\end{tabular}\n"
      ],
      "text/markdown": [
       "\n",
       "A data.frame: 3727443 × 10\n",
       "\n",
       "| sublibrary &lt;chr&gt; | pro_id &lt;chr&gt; | pep_id &lt;chr&gt; | taxon_id &lt;chr&gt; | pep_id2 &lt;chr&gt; | triplet_id &lt;chr&gt; | pep_no &lt;chr&gt; | sample &lt;fct&gt; | lfc &lt;dbl&gt; | tripletSample &lt;chr&gt; |\n",
       "|---|---|---|---|---|---|---|---|---|---|\n",
       "| dolphin | uvig_355478_29 | dolphin_1001031390910937997 | uvig_355478 | DolphynLa_001_ATGGGCCTCGAACTGGTTAAGATGTTGCTCGACGTGAAAACTAAAGGTGG | dolphin_1001031390910937997 | triplet | SMART003X194 | 0 | dolphin_1001031390910937997 SMART003X194 |\n",
       "| dolphin | uvig_355286_47 | dolphin_1001974258484100911 | uvig_355286 | DolphynLa_001_ACCGCTAAACAGCCGCAGTATGCAGCACTGTTGACCCAATATAAAGGTGG | dolphin_1001974258484100911 | triplet | SMART003X194 | 0 | dolphin_1001974258484100911 SMART003X194 |\n",
       "| dolphin | uvig_356033_7  | dolphin_1003182168634213578 | uvig_356033 | DolphynLa_001_AAGTTGTCTACTGCAAAGCTTAAGCCGCTTAGGTACCTGAAATACGGTGG | dolphin_1003182168634213578 | triplet | SMART003X194 | 0 | dolphin_1003182168634213578 SMART003X194 |\n",
       "| dolphin | uvig_355286_8  | dolphin_1003281628142369923 | uvig_355286 | DolphynLa_001_AAAAATGGTGAATTCCTGGAATGGGCCGAGTATAGAGGATGGCGCGGCGG | dolphin_1003281628142369923 | triplet | SMART003X194 | 0 | dolphin_1003281628142369923 SMART003X194 |\n",
       "| dolphin | uvig_356033_28 | dolphin_1003390492466174482 | uvig_356033 | DolphynLa_001_ACCGGCGACTTTCGCGGTGCATGGGATGGCATTAAGTCAATTTTCGGCGG | dolphin_1003390492466174482 | triplet | SMART003X194 | 0 | dolphin_1003390492466174482 SMART003X194 |\n",
       "| ⋮ | ⋮ | ⋮ | ⋮ | ⋮ | ⋮ | ⋮ | ⋮ | ⋮ | ⋮ |\n",
       "| dolphinepitopes | uvig_355854_33 | dolphinepitopes_997758404587082812 | uvig_355854 | DolphynLa_001_GGGGGCGGTGGATCAACCGCGTCAAAGGAACAGTTAGCAGCCTGGCACAA | dolphin_5512961784471541455 | pep3 | SMART397X195 | 0 | dolphin_5512961784471541455 SMART397X195 |\n",
       "| dolphinepitopes | uvig_356792_41 | dolphinepitopes_998209062551859471 | uvig_356792 | DolphynLa_001_GGTGGTGGTGGTTCGTTATCAATGTCACCTAAAGAGACAAATTATCGCGC | dolphin_362180758767367399  | pep2 | SMART397X195 | 0 | dolphin_362180758767367399 SMART397X195  |\n",
       "| dolphinepitopes | ivig_2475_39   | dolphinepitopes_998282101512657035 | ivig_2475   | DolphynLa_001_GGCGGCGGAGGTTCAGCAGAGTGGTTAGAAGAACCGAAGCGTATTCCGGG | dolphin_5945177458264591888 | pep2 | SMART397X195 | 0 | dolphin_5945177458264591888 SMART397X195 |\n",
       "| dolphinepitopes | uvig_355854_47 | dolphinepitopes_999000270348383792 | uvig_355854 | DolphynLa_001_GGTGGAGGTGGCAGCGAAACGATTGAGAAATTATGGGACCGGATCTTTGG | dolphin_6850243375807835426 | pep3 | SMART397X195 | 0 | dolphin_6850243375807835426 SMART397X195 |\n",
       "| dolphinepitopes | uvig_357534_1  | dolphinepitopes_999514897880406361 | uvig_357534 | DolphynLa_001_GGAGGGGGCGGATCGACCTTCCCGCAAATCTATAAAGTAAGTACCAAAGG | dolphin_8072266144464067831 | pep2 | SMART397X195 | 0 | dolphin_8072266144464067831 SMART397X195 |\n",
       "\n"
      ],
      "text/plain": [
       "        sublibrary      pro_id         pep_id                            \n",
       "1       dolphin         uvig_355478_29 dolphin_1001031390910937997       \n",
       "2       dolphin         uvig_355286_47 dolphin_1001974258484100911       \n",
       "3       dolphin         uvig_356033_7  dolphin_1003182168634213578       \n",
       "4       dolphin         uvig_355286_8  dolphin_1003281628142369923       \n",
       "5       dolphin         uvig_356033_28 dolphin_1003390492466174482       \n",
       "⋮       ⋮               ⋮              ⋮                                 \n",
       "3727439 dolphinepitopes uvig_355854_33 dolphinepitopes_997758404587082812\n",
       "3727440 dolphinepitopes uvig_356792_41 dolphinepitopes_998209062551859471\n",
       "3727441 dolphinepitopes ivig_2475_39   dolphinepitopes_998282101512657035\n",
       "3727442 dolphinepitopes uvig_355854_47 dolphinepitopes_999000270348383792\n",
       "3727443 dolphinepitopes uvig_357534_1  dolphinepitopes_999514897880406361\n",
       "        taxon_id   \n",
       "1       uvig_355478\n",
       "2       uvig_355286\n",
       "3       uvig_356033\n",
       "4       uvig_355286\n",
       "5       uvig_356033\n",
       "⋮       ⋮          \n",
       "3727439 uvig_355854\n",
       "3727440 uvig_356792\n",
       "3727441 ivig_2475  \n",
       "3727442 uvig_355854\n",
       "3727443 uvig_357534\n",
       "        pep_id2                                                         \n",
       "1       DolphynLa_001_ATGGGCCTCGAACTGGTTAAGATGTTGCTCGACGTGAAAACTAAAGGTGG\n",
       "2       DolphynLa_001_ACCGCTAAACAGCCGCAGTATGCAGCACTGTTGACCCAATATAAAGGTGG\n",
       "3       DolphynLa_001_AAGTTGTCTACTGCAAAGCTTAAGCCGCTTAGGTACCTGAAATACGGTGG\n",
       "4       DolphynLa_001_AAAAATGGTGAATTCCTGGAATGGGCCGAGTATAGAGGATGGCGCGGCGG\n",
       "5       DolphynLa_001_ACCGGCGACTTTCGCGGTGCATGGGATGGCATTAAGTCAATTTTCGGCGG\n",
       "⋮       ⋮                                                               \n",
       "3727439 DolphynLa_001_GGGGGCGGTGGATCAACCGCGTCAAAGGAACAGTTAGCAGCCTGGCACAA\n",
       "3727440 DolphynLa_001_GGTGGTGGTGGTTCGTTATCAATGTCACCTAAAGAGACAAATTATCGCGC\n",
       "3727441 DolphynLa_001_GGCGGCGGAGGTTCAGCAGAGTGGTTAGAAGAACCGAAGCGTATTCCGGG\n",
       "3727442 DolphynLa_001_GGTGGAGGTGGCAGCGAAACGATTGAGAAATTATGGGACCGGATCTTTGG\n",
       "3727443 DolphynLa_001_GGAGGGGGCGGATCGACCTTCCCGCAAATCTATAAAGTAAGTACCAAAGG\n",
       "        triplet_id                  pep_no  sample       lfc\n",
       "1       dolphin_1001031390910937997 triplet SMART003X194 0  \n",
       "2       dolphin_1001974258484100911 triplet SMART003X194 0  \n",
       "3       dolphin_1003182168634213578 triplet SMART003X194 0  \n",
       "4       dolphin_1003281628142369923 triplet SMART003X194 0  \n",
       "5       dolphin_1003390492466174482 triplet SMART003X194 0  \n",
       "⋮       ⋮                           ⋮       ⋮            ⋮  \n",
       "3727439 dolphin_5512961784471541455 pep3    SMART397X195 0  \n",
       "3727440 dolphin_362180758767367399  pep2    SMART397X195 0  \n",
       "3727441 dolphin_5945177458264591888 pep2    SMART397X195 0  \n",
       "3727442 dolphin_6850243375807835426 pep3    SMART397X195 0  \n",
       "3727443 dolphin_8072266144464067831 pep2    SMART397X195 0  \n",
       "        tripletSample                           \n",
       "1       dolphin_1001031390910937997 SMART003X194\n",
       "2       dolphin_1001974258484100911 SMART003X194\n",
       "3       dolphin_1003182168634213578 SMART003X194\n",
       "4       dolphin_1003281628142369923 SMART003X194\n",
       "5       dolphin_1003390492466174482 SMART003X194\n",
       "⋮       ⋮                                       \n",
       "3727439 dolphin_5512961784471541455 SMART397X195\n",
       "3727440 dolphin_362180758767367399 SMART397X195 \n",
       "3727441 dolphin_5945177458264591888 SMART397X195\n",
       "3727442 dolphin_6850243375807835426 SMART397X195\n",
       "3727443 dolphin_8072266144464067831 SMART397X195"
      ]
     },
     "metadata": {},
     "output_type": "display_data"
    }
   ],
   "source": [
    "tdf_all"
   ]
  },
  {
   "cell_type": "code",
   "execution_count": 57,
   "id": "d63453f0-1b69-453b-badb-54020547a786",
   "metadata": {},
   "outputs": [
    {
     "data": {
      "text/html": [
       "<strong>png:</strong> 2"
      ],
      "text/latex": [
       "\\textbf{png:} 2"
      ],
      "text/markdown": [
       "**png:** 2"
      ],
      "text/plain": [
       "png \n",
       "  2 "
      ]
     },
     "metadata": {},
     "output_type": "display_data"
    }
   ],
   "source": [
    "options(repr.plot.width=5, repr.plot.height=4)\n",
    "\n",
    "tdf_all %>% subset(lfc>0) %>% arrange(desc(lfc)) %>% group_by(pep_no) %>% mutate(order = row_number()) %>%\n",
    "subset(order < 3000) %>%\n",
    "\n",
    "ggplot(aes(order, lfc, color = pep_no)) + geom_line(size = 1)"
   ]
  },
  {
   "cell_type": "code",
   "execution_count": 36,
   "id": "b7124878-142b-43ee-9b79-2d9b972df688",
   "metadata": {},
   "outputs": [
    {
     "data": {
      "text/html": [
       "<table class=\"dataframe\">\n",
       "<caption>A data.frame: 21059 × 3</caption>\n",
       "<thead>\n",
       "\t<tr><th></th><th scope=col>triplet_id</th><th scope=col>pep_id</th><th scope=col>pep_no</th></tr>\n",
       "\t<tr><th></th><th scope=col>&lt;chr&gt;</th><th scope=col>&lt;chr&gt;</th><th scope=col>&lt;chr&gt;</th></tr>\n",
       "</thead>\n",
       "<tbody>\n",
       "\t<tr><th scope=row>1</th><td>dolphin_6504870519776975373</td><td>dolphin_6504870519776975373</td><td>triplet</td></tr>\n",
       "\t<tr><th scope=row>2</th><td>dolphin_7355551626334405622</td><td>dolphin_7355551626334405622</td><td>triplet</td></tr>\n",
       "\t<tr><th scope=row>3</th><td>dolphin_8004269479798127467</td><td>dolphin_8004269479798127467</td><td>triplet</td></tr>\n",
       "\t<tr><th scope=row>4</th><td>dolphin_5391934245698640426</td><td>dolphin_5391934245698640426</td><td>triplet</td></tr>\n",
       "\t<tr><th scope=row>5</th><td>dolphin_3708885669394750382</td><td>dolphin_3708885669394750382</td><td>triplet</td></tr>\n",
       "\t<tr><th scope=row>⋮</th><td>⋮</td><td>⋮</td><td>⋮</td></tr>\n",
       "\t<tr><th scope=row>15789</th><td>dolphin_3608753923611404341</td><td>dolphinepitopes_6781668877605090241</td><td>pep2</td></tr>\n",
       "\t<tr><th scope=row>15790</th><td>dolphin_2966580571493938827</td><td>dolphinepitopes_2822159737553260263</td><td>pep2</td></tr>\n",
       "\t<tr><th scope=row>15791</th><td>dolphin_7542324584028422118</td><td>dolphinepitopes_7314170211180655409</td><td>pep1</td></tr>\n",
       "\t<tr><th scope=row>15792</th><td>dolphin_2233595291382074503</td><td>dolphinepitopes_2879745741642610283</td><td>pep3</td></tr>\n",
       "\t<tr><th scope=row>15793</th><td>dolphin_8265064003675526695</td><td>dolphinepitopes_2094391516290215849</td><td>pep3</td></tr>\n",
       "</tbody>\n",
       "</table>\n"
      ],
      "text/latex": [
       "A data.frame: 21059 × 3\n",
       "\\begin{tabular}{r|lll}\n",
       "  & triplet\\_id & pep\\_id & pep\\_no\\\\\n",
       "  & <chr> & <chr> & <chr>\\\\\n",
       "\\hline\n",
       "\t1 & dolphin\\_6504870519776975373 & dolphin\\_6504870519776975373 & triplet\\\\\n",
       "\t2 & dolphin\\_7355551626334405622 & dolphin\\_7355551626334405622 & triplet\\\\\n",
       "\t3 & dolphin\\_8004269479798127467 & dolphin\\_8004269479798127467 & triplet\\\\\n",
       "\t4 & dolphin\\_5391934245698640426 & dolphin\\_5391934245698640426 & triplet\\\\\n",
       "\t5 & dolphin\\_3708885669394750382 & dolphin\\_3708885669394750382 & triplet\\\\\n",
       "\t⋮ & ⋮ & ⋮ & ⋮\\\\\n",
       "\t15789 & dolphin\\_3608753923611404341 & dolphinepitopes\\_6781668877605090241 & pep2\\\\\n",
       "\t15790 & dolphin\\_2966580571493938827 & dolphinepitopes\\_2822159737553260263 & pep2\\\\\n",
       "\t15791 & dolphin\\_7542324584028422118 & dolphinepitopes\\_7314170211180655409 & pep1\\\\\n",
       "\t15792 & dolphin\\_2233595291382074503 & dolphinepitopes\\_2879745741642610283 & pep3\\\\\n",
       "\t15793 & dolphin\\_8265064003675526695 & dolphinepitopes\\_2094391516290215849 & pep3\\\\\n",
       "\\end{tabular}\n"
      ],
      "text/markdown": [
       "\n",
       "A data.frame: 21059 × 3\n",
       "\n",
       "| <!--/--> | triplet_id &lt;chr&gt; | pep_id &lt;chr&gt; | pep_no &lt;chr&gt; |\n",
       "|---|---|---|---|\n",
       "| 1 | dolphin_6504870519776975373 | dolphin_6504870519776975373 | triplet |\n",
       "| 2 | dolphin_7355551626334405622 | dolphin_7355551626334405622 | triplet |\n",
       "| 3 | dolphin_8004269479798127467 | dolphin_8004269479798127467 | triplet |\n",
       "| 4 | dolphin_5391934245698640426 | dolphin_5391934245698640426 | triplet |\n",
       "| 5 | dolphin_3708885669394750382 | dolphin_3708885669394750382 | triplet |\n",
       "| ⋮ | ⋮ | ⋮ | ⋮ |\n",
       "| 15789 | dolphin_3608753923611404341 | dolphinepitopes_6781668877605090241 | pep2 |\n",
       "| 15790 | dolphin_2966580571493938827 | dolphinepitopes_2822159737553260263 | pep2 |\n",
       "| 15791 | dolphin_7542324584028422118 | dolphinepitopes_7314170211180655409 | pep1 |\n",
       "| 15792 | dolphin_2233595291382074503 | dolphinepitopes_2879745741642610283 | pep3 |\n",
       "| 15793 | dolphin_8265064003675526695 | dolphinepitopes_2094391516290215849 | pep3 |\n",
       "\n"
      ],
      "text/plain": [
       "      triplet_id                  pep_id                              pep_no \n",
       "1     dolphin_6504870519776975373 dolphin_6504870519776975373         triplet\n",
       "2     dolphin_7355551626334405622 dolphin_7355551626334405622         triplet\n",
       "3     dolphin_8004269479798127467 dolphin_8004269479798127467         triplet\n",
       "4     dolphin_5391934245698640426 dolphin_5391934245698640426         triplet\n",
       "5     dolphin_3708885669394750382 dolphin_3708885669394750382         triplet\n",
       "⋮     ⋮                           ⋮                                   ⋮      \n",
       "15789 dolphin_3608753923611404341 dolphinepitopes_6781668877605090241 pep2   \n",
       "15790 dolphin_2966580571493938827 dolphinepitopes_2822159737553260263 pep2   \n",
       "15791 dolphin_7542324584028422118 dolphinepitopes_7314170211180655409 pep1   \n",
       "15792 dolphin_2233595291382074503 dolphinepitopes_2879745741642610283 pep3   \n",
       "15793 dolphin_8265064003675526695 dolphinepitopes_2094391516290215849 pep3   "
      ]
     },
     "metadata": {},
     "output_type": "display_data"
    }
   ],
   "source": [
    "dol_epi_map"
   ]
  },
  {
   "cell_type": "code",
   "execution_count": 7,
   "id": "25e05b58-ab0a-4049-9989-ba917b0fec4c",
   "metadata": {
    "tags": []
   },
   "outputs": [],
   "source": [
    "\n"
   ]
  },
  {
   "cell_type": "code",
   "execution_count": null,
   "id": "605b1ac8-1914-44b6-91b3-271f1708efca",
   "metadata": {},
   "outputs": [],
   "source": []
  }
 ],
 "metadata": {
  "kernelspec": {
   "display_name": "R",
   "language": "R",
   "name": "ir"
  },
  "language_info": {
   "codemirror_mode": "r",
   "file_extension": ".r",
   "mimetype": "text/x-r-source",
   "name": "R",
   "pygments_lexer": "r",
   "version": "3.6.3"
  }
 },
 "nbformat": 4,
 "nbformat_minor": 5
}
