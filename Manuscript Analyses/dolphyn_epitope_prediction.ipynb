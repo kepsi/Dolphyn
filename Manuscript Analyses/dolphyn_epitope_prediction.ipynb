{
 "cells": [
  {
   "cell_type": "code",
   "execution_count": 3,
   "id": "eedbac4e",
   "metadata": {
    "tags": []
   },
   "outputs": [],
   "source": [
    "import sys, os\n",
    "sys.path.insert(0, os.path.abspath('../dolphyn'))\n",
    "import dolphyn as D\n",
    "\n",
    "import pandas as pd\n",
    "import numpy as np\n",
    "from sklearn import metrics\n",
    "from sklearn.metrics import roc_curve\n",
    "import matplotlib.pyplot as plt"
   ]
  },
  {
   "cell_type": "code",
   "execution_count": 12,
   "id": "0b521855-957a-4843-86ed-69aad3d6efd5",
   "metadata": {},
   "outputs": [],
   "source": [
    "epitope_size = 15"
   ]
  },
  {
   "cell_type": "code",
   "execution_count": 13,
   "id": "ebb30edb",
   "metadata": {},
   "outputs": [],
   "source": [
    "feat, labs = D.getPEDSTrainingSet(epitope_size)"
   ]
  },
  {
   "cell_type": "code",
   "execution_count": 14,
   "id": "84335f11",
   "metadata": {},
   "outputs": [
    {
     "name": "stdout",
     "output_type": "stream",
     "text": [
      "AUC Test: 0.6923015107682416\n",
      "AUC OOB: 0.7530892508484792\n",
      "AUC Whole: 0.9913181336082535 \n",
      "\n",
      "Accuracy: 0.653179190751445\n",
      "Precision: 0.43283582089552236\n",
      "Recall: 0.5686274509803921\n",
      "F1: 0.4915254237288136\n",
      "Confusion Matrix:\n",
      " [[84 38]\n",
      " [22 29]]\n"
     ]
    },
    {
     "data": {
      "image/png": "[encoded data removed]",
      "text/plain": [
       "<Figure size 432x288 with 1 Axes>"
      ]
     },
     "metadata": {
      "needs_background": "light"
     },
     "output_type": "display_data"
    }
   ],
   "source": [
    "# train the model\n",
    "\n",
    "clf, splitsets = D.initEpiPredictor(epi_size = epitope_size, testset_size = 0.05)\n",
    "\n",
    "(X_test, y_test), (X_train, y_train) = splitsets\n",
    "\n",
    "y_pred_classes =clf.predict_proba(X_test)\n",
    "y_pred = np.array([classes[1] for classes in y_pred_classes])\n",
    "y_labs_classes =clf.predict_proba(feat)\n",
    "pred_labs = np.array([classes[1] for classes in y_labs_classes])\n",
    "pred_train = np.array(clf.oob_decision_function_)[:,1]\n",
    "\n",
    "print(\"AUC Test:\",metrics.roc_auc_score(y_test, y_pred))\n",
    "print(\"AUC OOB:\",metrics.roc_auc_score(y_train, pred_train))\n",
    "print(\"AUC Whole:\",metrics.roc_auc_score(labs, pred_labs),\"\\n\")\n",
    "\n",
    "y_pred_bin =(y_pred>0.5)\n",
    "print(\"Accuracy:\",metrics.accuracy_score(y_test, y_pred_bin))\n",
    "print(\"Precision:\",metrics.precision_score(y_test, y_pred_bin))\n",
    "print(\"Recall:\",metrics.recall_score(y_test, y_pred_bin))\n",
    "print(\"F1:\",metrics.f1_score(y_test, y_pred_bin))\n",
    "\n",
    "print(\"Confusion Matrix:\\n\",metrics.confusion_matrix(y_test, y_pred_bin))\n",
    "\n",
    "fig_roc, ax_roc = plt.subplots()\n",
    "fpr, tpr, _ = roc_curve(y_test, y_pred)\n",
    "fproob, tproob, _ = roc_curve(y_train, pred_train)\n",
    "fprwhole, tprwhole, _ = roc_curve(labs, pred_labs)\n",
    "ax_roc.plot(fpr, tpr, label='Testset')\n",
    "ax_roc.plot(fproob, tproob, label='OOB')\n",
    "ax_roc.plot(fprwhole, tprwhole, label='Whole')\n",
    "ax_roc.plot([0, 1], [0, 1], linestyle='--', label='No Skill')\n",
    "f_score = y_test.value_counts()[1]/len(y_test)\n",
    "plt.ylim([0.0, 1.05])\n",
    "#plt.savefig('RF_testset_ROC.pdf')  \n",
    "ax_roc.legend()\n",
    "plt.show()"
   ]
  },
  {
   "cell_type": "code",
   "execution_count": 16,
   "id": "791f6735",
   "metadata": {},
   "outputs": [
    {
     "name": "stdout",
     "output_type": "stream",
     "text": [
      "\n",
      "Top 20 features\n",
      "\n",
      " d_S                  0.015798\n",
      "sc_polaruncharged    0.014998\n",
      "sc_poseleccharged    0.014834\n",
      "d_K                  0.013436\n",
      "d_KK                 0.012643\n",
      "sc_negeleccharged    0.012509\n",
      "sc_hydrophobic       0.012261\n",
      "d_I                  0.010979\n",
      "K                    0.010633\n",
      "E                    0.009806\n",
      "D                    0.009594\n",
      "d_SK                 0.009431\n",
      "P                    0.009173\n",
      "S                    0.009115\n",
      "d_P                  0.009077\n",
      "d_KS                 0.008866\n",
      "d_SS                 0.008357\n",
      "T                    0.008220\n",
      "R                    0.008220\n",
      "L                    0.008139\n",
      "dtype: float64 \n",
      "\n"
     ]
    }
   ],
   "source": [
    "#### Important Features for Prediction Module\n",
    "\n",
    "clf, _ = D.initEpiPredictor(epi_size = epitope_size)\n",
    "\n",
    "feature_imp = pd.Series(clf.feature_importances_,index=feat.columns).sort_values(ascending=False)\n",
    "top = 20\n",
    "print(\"\\nTop\",top,\"features\\n\\n\",feature_imp[:top], \"\\n\")\n"
   ]
  },
  {
   "cell_type": "markdown",
   "id": "646ec40c-e913-4bad-baff-a7d2edb6fce0",
   "metadata": {},
   "source": [
    "# Generate Trainingsets\n",
    "(runs long)"
   ]
  },
  {
   "cell_type": "code",
   "execution_count": null,
   "id": "e5492336-e63f-4fc3-8f66-c9cbe380e6df",
   "metadata": {},
   "outputs": [],
   "source": [
    "hfc = pd.read_table(\"../data/hfc_pubEpitopes.csv\", index_col = 0, sep = \",\")"
   ]
  },
  {
   "cell_type": "code",
   "execution_count": 11,
   "id": "91bdd856-2b2f-4f30-a988-9fcb81c77974",
   "metadata": {},
   "outputs": [
    {
     "name": "stdout",
     "output_type": "stream",
     "text": [
      "Did you really want to run this? Set run_accident_prevent = False and try again!\n"
     ]
    }
   ],
   "source": [
    "run_accident_prevent = True\n",
    "\n",
    "if not run_accident_prevent:\n",
    "    for k in [15,20,25,30,35,40,45]:\n",
    "        feat = pd.DataFrame(columns = D.all_feature_names())\n",
    "        labs = pd.DataFrame(columns=[\"reactivity\", \"reactivity_binary\"])\n",
    "        c = 0\n",
    "        mersuffix = \"_\" + str(k) + \"mer\"\n",
    "        print(mersuffix)\n",
    "        for index, row in hfc.iterrows():      \n",
    "            if mersuffix in index :  \n",
    "                if c%500 == 0:\n",
    "                    print(str(c), \"sequences done\")\n",
    "                c += 1\n",
    "                seq = index.split(\"_\")[-1][-k:]\n",
    "                labs.loc[index, \"reactivity\"] = row.sum()\n",
    "                labs.loc[index, \"reactivity_binary\"] = 1 if sum(row > 0) > 1 else 0   \n",
    "                feat.loc[index] = D.kmer_features_of_protein(seq,k).loc[0]\n",
    "        feat.to_csv(\"peds_features\"+mersuffix+\".csv\")\n",
    "        labs.to_csv(\"peds_labels\"+mersuffix+\".csv\")\n",
    "else:\n",
    "    print(\"Did you really want to run this? Set run_accident_prevent = False and try again!\")"
   ]
  }
 ],
 "metadata": {
  "kernelspec": {
   "display_name": "Python 3",
   "language": "python",
   "name": "python3"
  },
  "language_info": {
   "codemirror_mode": {
    "name": "ipython",
    "version": 3
   },
   "file_extension": ".py",
   "mimetype": "text/x-python",
   "name": "python",
   "nbconvert_exporter": "python",
   "pygments_lexer": "ipython3",
   "version": "3.8.10"
  }
 },
 "nbformat": 4,
 "nbformat_minor": 5
}
