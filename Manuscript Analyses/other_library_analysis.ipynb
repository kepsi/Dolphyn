{
 "cells": [
  {
   "cell_type": "code",
   "execution_count": 2,
   "metadata": {},
   "outputs": [
    {
     "data": {
      "text/plain": [
       "'/home/anna/project/phageomeLib/Public/Manuscript Analyses'"
      ]
     },
     "execution_count": 2,
     "metadata": {},
     "output_type": "execute_result"
    }
   ],
   "source": [
    "import os\n",
    "import numpy as np\n",
    "import pandas as pd\n",
    "import matplotlib.pyplot as plt\n",
    "\n",
    "datasource_parent = \"../../../avarda\"\n",
    "source_file_ext = \"_Hits_foldchange_annotated.tsv\"\n",
    "os.getcwd()"
   ]
  },
  {
   "cell_type": "code",
   "execution_count": 7,
   "metadata": {},
   "outputs": [],
   "source": [
    "df = pd.read_csv(\"../data/VRC.csv\", index_col = 0)"
   ]
  },
  {
   "cell_type": "code",
   "execution_count": 45,
   "metadata": {},
   "outputs": [
    {
     "name": "stdout",
     "output_type": "stream",
     "text": [
      "already available\n"
     ]
    }
   ],
   "source": [
    "if os.path.exists(\"../data/VRC.csv\") :\n",
    "    print(\"already available\")\n",
    "    df = pd.read_csv(\"../data/VRC.csv\", index_col = 0)\n",
    "else :\n",
    "    print(\"needs to read\")\n",
    "    screen_under_review = \"phipseq_0027\"\n",
    "    df = pd.read_csv(datasource_parent+\"/\"+screen_under_review+source_file_ext, sep='\\t', low_memory=False, index_col=0)\n",
    "    df = df.loc[:,df.columns.str.contains(\"VRC\")]\n",
    "    a = pd.DataFrame(index=df.index)\n",
    "\n",
    "    for subdir, dirs, files in os.walk(datasource_parent):\n",
    "        for f in files:\n",
    "            if \"phip\" in f and \"0027\" not in f:\n",
    "                print(f)\n",
    "                df = pd.read_csv(datasource_parent+\"/\"+f, sep='\\t', low_memory=False, index_col=0) \n",
    "                df = df.loc[:,df.columns.str.contains(\"VRC\")]\n",
    "                a = pd.concat([a, df], axis=1)\n",
    "\n",
    "    df.columns = df.columns.str.replace(\"VRC.plasma.VRC_donor.\",\"\", regex=False)\n",
    "    df.columns = df.columns.str.replace(\".20A20G.1\",\"\", regex=False)\n",
    "\n",
    "    df.to_csv(\"../data/VRC.csv\", sep = \",\")"
   ]
  },
  {
   "cell_type": "code",
   "execution_count": 71,
   "metadata": {},
   "outputs": [],
   "source": [
    "a = pd.DataFrame(index=df.index)\n",
    "a[\"reactive_samples\"] = (np.log(df)>0).sum(axis=1)\n",
    "a[\"library\"] = a.index.str.split(\"_\").str[0] + a.index.str.split(\"_\").str[1]\n",
    "a[\"reactive_peptide\"] = (a.reactive_samples>0)"
   ]
  },
  {
   "cell_type": "code",
   "execution_count": 72,
   "metadata": {},
   "outputs": [
    {
     "data": {
      "text/html": [
       "<div>\n",
       "<style scoped>\n",
       "    .dataframe tbody tr th:only-of-type {\n",
       "        vertical-align: middle;\n",
       "    }\n",
       "\n",
       "    .dataframe tbody tr th {\n",
       "        vertical-align: top;\n",
       "    }\n",
       "\n",
       "    .dataframe thead th {\n",
       "        text-align: right;\n",
       "    }\n",
       "</style>\n",
       "<table border=\"1\" class=\"dataframe\">\n",
       "  <thead>\n",
       "    <tr style=\"text-align: right;\">\n",
       "      <th></th>\n",
       "      <th>reactive_samples</th>\n",
       "      <th>library</th>\n",
       "      <th>reactive_peptide</th>\n",
       "    </tr>\n",
       "    <tr>\n",
       "      <th>u_pep_id</th>\n",
       "      <th></th>\n",
       "      <th></th>\n",
       "      <th></th>\n",
       "    </tr>\n",
       "  </thead>\n",
       "  <tbody>\n",
       "    <tr>\n",
       "      <th>AllergomeL_001_ATGGGGTTTATTACCAAGGCGATCCCTATCGTCCTCGCCGCCCTGAGTAC</th>\n",
       "      <td>0</td>\n",
       "      <td>AllergomeL001</td>\n",
       "      <td>False</td>\n",
       "    </tr>\n",
       "    <tr>\n",
       "      <th>AllergomeL_001_AACATGTCTTTAGGTGGTCCGCGCTCAGAGGCATCGAATCAGGCGGCCAA</th>\n",
       "      <td>0</td>\n",
       "      <td>AllergomeL001</td>\n",
       "      <td>False</td>\n",
       "    </tr>\n",
       "    <tr>\n",
       "      <th>AllergomeL_001_GCTGCGGGGAATGAAAATATGGACGCACAACATTCAAGTCCTGCAAGCGA</th>\n",
       "      <td>0</td>\n",
       "      <td>AllergomeL001</td>\n",
       "      <td>False</td>\n",
       "    </tr>\n",
       "    <tr>\n",
       "      <th>AllergomeL_001_GACGATGGTAAGGCGGACTTTTCTAACTATGGGGCAGTAGTGGACGTCTA</th>\n",
       "      <td>0</td>\n",
       "      <td>AllergomeL001</td>\n",
       "      <td>False</td>\n",
       "    </tr>\n",
       "    <tr>\n",
       "      <th>AllergomeL_001_GGCGGGAGTACTGACACGTTGTCTGGCACGTCCATGGCATCACCGCATGT</th>\n",
       "      <td>0</td>\n",
       "      <td>AllergomeL001</td>\n",
       "      <td>False</td>\n",
       "    </tr>\n",
       "    <tr>\n",
       "      <th>...</th>\n",
       "      <td>...</td>\n",
       "      <td>...</td>\n",
       "      <td>...</td>\n",
       "    </tr>\n",
       "    <tr>\n",
       "      <th>HumanLarma_003_GTCCGTAAAGCTAACGAGCGTTGTGAACGCTGTTGTGTTAGCATACAGGA</th>\n",
       "      <td>0</td>\n",
       "      <td>HumanLarma003</td>\n",
       "      <td>False</td>\n",
       "    </tr>\n",
       "    <tr>\n",
       "      <th>HumanLarma_003_AGCTTACATAAAGACTTTGCTTTTTACCTGGGCAAAGGCGGGTACTTTTC</th>\n",
       "      <td>2</td>\n",
       "      <td>HumanLarma003</td>\n",
       "      <td>True</td>\n",
       "    </tr>\n",
       "    <tr>\n",
       "      <th>HumanLarma_003_ATCAGTCTGCGCCTGCCGAATTTAGAAGCCCCGAGCCATATCAGTGGATC</th>\n",
       "      <td>0</td>\n",
       "      <td>HumanLarma003</td>\n",
       "      <td>False</td>\n",
       "    </tr>\n",
       "    <tr>\n",
       "      <th>HumanLarma_003_AGCCTGCGTCTGCCGAATCTGGAAGCCCCGTCACATATATCAGGGAGCGG</th>\n",
       "      <td>0</td>\n",
       "      <td>HumanLarma003</td>\n",
       "      <td>False</td>\n",
       "    </tr>\n",
       "    <tr>\n",
       "      <th>HumanLarma_003_GCTTTGAGGAATCCCATATGTTTAAAAAGTATAGCAGTCTTGAAAATCAT</th>\n",
       "      <td>0</td>\n",
       "      <td>HumanLarma003</td>\n",
       "      <td>False</td>\n",
       "    </tr>\n",
       "  </tbody>\n",
       "</table>\n",
       "<p>596092 rows × 3 columns</p>\n",
       "</div>"
      ],
      "text/plain": [
       "                                                    reactive_samples  \\\n",
       "u_pep_id                                                               \n",
       "AllergomeL_001_ATGGGGTTTATTACCAAGGCGATCCCTATCGT...                 0   \n",
       "AllergomeL_001_AACATGTCTTTAGGTGGTCCGCGCTCAGAGGC...                 0   \n",
       "AllergomeL_001_GCTGCGGGGAATGAAAATATGGACGCACAACA...                 0   \n",
       "AllergomeL_001_GACGATGGTAAGGCGGACTTTTCTAACTATGG...                 0   \n",
       "AllergomeL_001_GGCGGGAGTACTGACACGTTGTCTGGCACGTC...                 0   \n",
       "...                                                              ...   \n",
       "HumanLarma_003_GTCCGTAAAGCTAACGAGCGTTGTGAACGCTG...                 0   \n",
       "HumanLarma_003_AGCTTACATAAAGACTTTGCTTTTTACCTGGG...                 2   \n",
       "HumanLarma_003_ATCAGTCTGCGCCTGCCGAATTTAGAAGCCCC...                 0   \n",
       "HumanLarma_003_AGCCTGCGTCTGCCGAATCTGGAAGCCCCGTC...                 0   \n",
       "HumanLarma_003_GCTTTGAGGAATCCCATATGTTTAAAAAGTAT...                 0   \n",
       "\n",
       "                                                          library  \\\n",
       "u_pep_id                                                            \n",
       "AllergomeL_001_ATGGGGTTTATTACCAAGGCGATCCCTATCGT...  AllergomeL001   \n",
       "AllergomeL_001_AACATGTCTTTAGGTGGTCCGCGCTCAGAGGC...  AllergomeL001   \n",
       "AllergomeL_001_GCTGCGGGGAATGAAAATATGGACGCACAACA...  AllergomeL001   \n",
       "AllergomeL_001_GACGATGGTAAGGCGGACTTTTCTAACTATGG...  AllergomeL001   \n",
       "AllergomeL_001_GGCGGGAGTACTGACACGTTGTCTGGCACGTC...  AllergomeL001   \n",
       "...                                                           ...   \n",
       "HumanLarma_003_GTCCGTAAAGCTAACGAGCGTTGTGAACGCTG...  HumanLarma003   \n",
       "HumanLarma_003_AGCTTACATAAAGACTTTGCTTTTTACCTGGG...  HumanLarma003   \n",
       "HumanLarma_003_ATCAGTCTGCGCCTGCCGAATTTAGAAGCCCC...  HumanLarma003   \n",
       "HumanLarma_003_AGCCTGCGTCTGCCGAATCTGGAAGCCCCGTC...  HumanLarma003   \n",
       "HumanLarma_003_GCTTTGAGGAATCCCATATGTTTAAAAAGTAT...  HumanLarma003   \n",
       "\n",
       "                                                    reactive_peptide  \n",
       "u_pep_id                                                              \n",
       "AllergomeL_001_ATGGGGTTTATTACCAAGGCGATCCCTATCGT...             False  \n",
       "AllergomeL_001_AACATGTCTTTAGGTGGTCCGCGCTCAGAGGC...             False  \n",
       "AllergomeL_001_GCTGCGGGGAATGAAAATATGGACGCACAACA...             False  \n",
       "AllergomeL_001_GACGATGGTAAGGCGGACTTTTCTAACTATGG...             False  \n",
       "AllergomeL_001_GGCGGGAGTACTGACACGTTGTCTGGCACGTC...             False  \n",
       "...                                                              ...  \n",
       "HumanLarma_003_GTCCGTAAAGCTAACGAGCGTTGTGAACGCTG...             False  \n",
       "HumanLarma_003_AGCTTACATAAAGACTTTGCTTTTTACCTGGG...              True  \n",
       "HumanLarma_003_ATCAGTCTGCGCCTGCCGAATTTAGAAGCCCC...             False  \n",
       "HumanLarma_003_AGCCTGCGTCTGCCGAATCTGGAAGCCCCGTC...             False  \n",
       "HumanLarma_003_GCTTTGAGGAATCCCATATGTTTAAAAAGTAT...             False  \n",
       "\n",
       "[596092 rows x 3 columns]"
      ]
     },
     "execution_count": 72,
     "metadata": {},
     "output_type": "execute_result"
    }
   ],
   "source": [
    "a"
   ]
  },
  {
   "cell_type": "code",
   "execution_count": 76,
   "metadata": {},
   "outputs": [],
   "source": [
    "b = a.groupby([\"library\",\"reactive_peptide\"], as_index = False).count()\n",
    "# \"reactive_samples\" is now actually number of peptides per group\n",
    "b[\"reactive_samples\"] = b[\"reactive_samples\"]/1000\n",
    "val = b.pivot_table(index='library',\n",
    "            columns=['reactive_peptide'], \n",
    "            values='reactive_samples',\n",
    "            aggfunc='first')\n",
    "\n",
    "val[\"total\"] = (val.loc[:,True]+ val.loc[:,False])\n",
    "val[\"library\"] = val.index\n",
    "val[\"True_perc\"] = val.loc[:,True]/(val.loc[:,\"total\"])*100"
   ]
  },
  {
   "cell_type": "code",
   "execution_count": 77,
   "metadata": {},
   "outputs": [
    {
     "data": {
      "text/html": [
       "<div>\n",
       "<style scoped>\n",
       "    .dataframe tbody tr th:only-of-type {\n",
       "        vertical-align: middle;\n",
       "    }\n",
       "\n",
       "    .dataframe tbody tr th {\n",
       "        vertical-align: top;\n",
       "    }\n",
       "\n",
       "    .dataframe thead th {\n",
       "        text-align: right;\n",
       "    }\n",
       "</style>\n",
       "<table border=\"1\" class=\"dataframe\">\n",
       "  <thead>\n",
       "    <tr style=\"text-align: right;\">\n",
       "      <th>reactive_peptide</th>\n",
       "      <th>False</th>\n",
       "      <th>True</th>\n",
       "      <th>total</th>\n",
       "      <th>library</th>\n",
       "      <th>True_perc</th>\n",
       "    </tr>\n",
       "    <tr>\n",
       "      <th>library</th>\n",
       "      <th></th>\n",
       "      <th></th>\n",
       "      <th></th>\n",
       "      <th></th>\n",
       "      <th></th>\n",
       "    </tr>\n",
       "  </thead>\n",
       "  <tbody>\n",
       "    <tr>\n",
       "      <th>AllergomeL001</th>\n",
       "      <td>18.763</td>\n",
       "      <td>0.568</td>\n",
       "      <td>19.331</td>\n",
       "      <td>AllergomeL001</td>\n",
       "      <td>2.938286</td>\n",
       "    </tr>\n",
       "    <tr>\n",
       "      <th>HumanLarma002</th>\n",
       "      <td>252.308</td>\n",
       "      <td>7.037</td>\n",
       "      <td>259.345</td>\n",
       "      <td>HumanLarma002</td>\n",
       "      <td>2.713374</td>\n",
       "    </tr>\n",
       "    <tr>\n",
       "      <th>HumanLarma003</th>\n",
       "      <td>14.833</td>\n",
       "      <td>0.029</td>\n",
       "      <td>14.862</td>\n",
       "      <td>HumanLarma003</td>\n",
       "      <td>0.195129</td>\n",
       "    </tr>\n",
       "    <tr>\n",
       "      <th>PhageomeLa001</th>\n",
       "      <td>97.410</td>\n",
       "      <td>2.865</td>\n",
       "      <td>100.275</td>\n",
       "      <td>PhageomeLa001</td>\n",
       "      <td>2.857143</td>\n",
       "    </tr>\n",
       "    <tr>\n",
       "      <th>ToxomeLarm001</th>\n",
       "      <td>93.284</td>\n",
       "      <td>2.317</td>\n",
       "      <td>95.601</td>\n",
       "      <td>ToxomeLarm001</td>\n",
       "      <td>2.423615</td>\n",
       "    </tr>\n",
       "    <tr>\n",
       "      <th>VirscanLar001</th>\n",
       "      <td>87.577</td>\n",
       "      <td>8.471</td>\n",
       "      <td>96.048</td>\n",
       "      <td>VirscanLar001</td>\n",
       "      <td>8.819549</td>\n",
       "    </tr>\n",
       "    <tr>\n",
       "      <th>VirscanLar002</th>\n",
       "      <td>10.630</td>\n",
       "      <td>NaN</td>\n",
       "      <td>NaN</td>\n",
       "      <td>VirscanLar002</td>\n",
       "      <td>NaN</td>\n",
       "    </tr>\n",
       "  </tbody>\n",
       "</table>\n",
       "</div>"
      ],
      "text/plain": [
       "reactive_peptide    False   True    total        library  True_perc\n",
       "library                                                            \n",
       "AllergomeL001      18.763  0.568   19.331  AllergomeL001   2.938286\n",
       "HumanLarma002     252.308  7.037  259.345  HumanLarma002   2.713374\n",
       "HumanLarma003      14.833  0.029   14.862  HumanLarma003   0.195129\n",
       "PhageomeLa001      97.410  2.865  100.275  PhageomeLa001   2.857143\n",
       "ToxomeLarm001      93.284  2.317   95.601  ToxomeLarm001   2.423615\n",
       "VirscanLar001      87.577  8.471   96.048  VirscanLar001   8.819549\n",
       "VirscanLar002      10.630    NaN      NaN  VirscanLar002        NaN"
      ]
     },
     "execution_count": 77,
     "metadata": {},
     "output_type": "execute_result"
    }
   ],
   "source": [
    "val"
   ]
  },
  {
   "cell_type": "code",
   "execution_count": 78,
   "metadata": {},
   "outputs": [
    {
     "data": {
      "image/png": "[encoded data removed]",
      "text/plain": [
       "<Figure size 720x504 with 1 Axes>"
      ]
     },
     "metadata": {
      "needs_background": "light"
     },
     "output_type": "display_data"
    }
   ],
   "source": [
    "plt.rcParams[\"figure.figsize\"] = (10,7)\n",
    "plt.rcParams.update({'font.size': 18})\n",
    "ax = val.drop([\"total\", \"True_perc\"], axis = 1).plot(kind='bar', stacked=True, color=['steelblue', 'red'], width=0.9)\n",
    "\n",
    "for c in ax.containers:\n",
    "    # Optional: if the segment is small or 0, customize the labels\n",
    "    labels = [v.get_height() if v.get_height() > 0 else '' for v in c]\n",
    "    if c.get_label() == \"True\":\n",
    "        labels = round(val[\"True_perc\"],1).astype(str) + \"%\"\n",
    "        # remove the labels parameter if it's not needed for customized labels\n",
    "        ax.bar_label(c, labels=labels, label_type='center')\n",
    "\n",
    "ax.set_ylabel(\"library size * 1000\")\n",
    "#plt.savefig(\"./figures/larman_libraries.pdf\")\n",
    "plt.show()"
   ]
  },
  {
   "cell_type": "code",
   "execution_count": 130,
   "metadata": {},
   "outputs": [
    {
     "data": {
      "image/png": "[encoded data removed]",
      "text/plain": [
       "<Figure size 720x504 with 1 Axes>"
      ]
     },
     "metadata": {
      "needs_background": "light"
     },
     "output_type": "display_data"
    }
   ],
   "source": [
    "plt.rcParams[\"figure.figsize\"] = (10,7)\n",
    "plt.rcParams.update({'font.size': 18})\n",
    "ax = val.drop([\"total\", \"True_perc\"], axis = 1).plot(kind='bar', stacked=True, color=['steelblue', 'red'], width=0.9)\n",
    "\n",
    "for c in ax.containers:\n",
    "    # Optional: if the segment is small or 0, customize the labels\n",
    "    labels = [v.get_height() if v.get_height() > 0 else '' for v in c]\n",
    "    if c.get_label() == \"True\":\n",
    "        labels = round(val[\"True_perc\"],1).astype(str) + \"%\"\n",
    "        # remove the labels parameter if it's not needed for customized labels\n",
    "        ax.bar_label(c, labels=labels, label_type='center')\n",
    "\n",
    "ax.set_ylabel(\"library size * 1000\")\n",
    "plt.savefig(\"./figures/larman_libraries.pdf\")\n",
    "plt.show()"
   ]
  },
  {
   "cell_type": "code",
   "execution_count": null,
   "metadata": {},
   "outputs": [],
   "source": []
  },
  {
   "cell_type": "code",
   "execution_count": null,
   "metadata": {},
   "outputs": [],
   "source": [
    "df = pd.read_csv(datasource_parent+\"/\"+screen_under_review+source_file_ext, sep='\\t', low_memory=False, index_col=0)\n",
    "df = df.loc[:,df.columns.str.contains(\"VRC\")]\n",
    "a = pd.DataFrame(index=df.index)\n",
    "\n",
    "for subdir, dirs, files in os.walk(datasource_parent):\n",
    "    for f in files:\n",
    "        if \"VRC\" in f and \"0027\" not in f:\n",
    "            print(f)\n",
    "            df = pd.read_csv(datasource_parent+\"/\"+f, sep='\\t', low_memory=False, index_col=0) \n",
    "            df = df.loc[:,df.columns.str.contains(\"VRC\")]\n",
    "            a = pd.concat([a, df], axis=0)\n"
   ]
  },
  {
   "cell_type": "code",
   "execution_count": null,
   "metadata": {},
   "outputs": [],
   "source": []
  },
  {
   "cell_type": "code",
   "execution_count": null,
   "metadata": {},
   "outputs": [],
   "source": []
  },
  {
   "cell_type": "code",
   "execution_count": null,
   "metadata": {},
   "outputs": [],
   "source": [
    "df = df.loc[:,~df.columns.str.contains(\"Beads_Only\")]\n",
    "df.drop(['pep_id','pos_start','pos_end','UniProt_acc','pep_aa','taxon_genus','taxon_species','gene_symbol','product'], axis = 1, inplace = True)"
   ]
  }
 ],
 "metadata": {
  "kernelspec": {
   "display_name": "Python 3",
   "language": "python",
   "name": "python3"
  },
  "language_info": {
   "codemirror_mode": {
    "name": "ipython",
    "version": 3
   },
   "file_extension": ".py",
   "mimetype": "text/x-python",
   "name": "python",
   "nbconvert_exporter": "python",
   "pygments_lexer": "ipython3",
   "version": "3.8.10"
  }
 },
 "nbformat": 4,
 "nbformat_minor": 4
}
