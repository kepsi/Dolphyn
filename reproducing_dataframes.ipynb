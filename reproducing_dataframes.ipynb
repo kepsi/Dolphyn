{
 "cells": [
  {
   "cell_type": "code",
   "execution_count": null,
   "id": "6bb918f9-5cf2-46e4-9bdc-a69d58e21dd6",
   "metadata": {},
   "outputs": [],
   "source": [
    "library(dplyr)"
   ]
  },
  {
   "cell_type": "code",
   "execution_count": 1,
   "id": "1b679c2d-ec40-4a81-87ae-ae1f4d759b5f",
   "metadata": {},
   "outputs": [
    {
     "name": "stderr",
     "output_type": "stream",
     "text": [
      "Warning message in gzfile(file, \"rb\"):\n",
      "“cannot open compressed file '../data/phip194_PhARscores_dolphyn.rds', probable reason 'No such file or directory'”\n"
     ]
    },
    {
     "ename": "ERROR",
     "evalue": "Error in gzfile(file, \"rb\"): cannot open the connection\n",
     "output_type": "error",
     "traceback": [
      "Error in gzfile(file, \"rb\"): cannot open the connection\nTraceback:\n",
      "1. readRDS(paste0(\"../data/phip194_PhARscores_dolphyn.rds\"))",
      "2. gzfile(file, \"rb\")"
     ]
    }
   ],
   "source": [
    "# org filenames: PhARscore/20230123 - phip195_PhARscores_pepsyn - max 7 iterations.rds\n",
    "# etc\n",
    "phar_dolphyn_194 = readRDS(paste0(\"../data/phip194_PhARscores_dolphyn.rds\"))\n",
    "phar_dolphyn_195 = readRDS(paste0(\"../data/phip195_PhARscores_dolphyn.rds\"))\n",
    "phar = rbind(phar_dolphyn_194,phar_dolphyn_195) %>% mutate(library = \"dolphyn\") \n",
    "\n",
    "phar_pepsyn_194 = readRDS(paste0(\"../data/phip194_PhARscores_pepsyn.rds\"))\n",
    "phar_pepsyn_195 = readRDS(paste0(\"../data/phip195_PhARscores_pepsyn.rds\"))\n",
    "rbind(phar_pepsyn_194,phar_pepsyn_195) %>% mutate(library = \"pepsyn\") %>%\n",
    "rbind(phar) -> phar\n",
    "\n",
    "phar %>%\n",
    "    mutate(sample_id = gsub(sample_id,pattern = \"-20A20G-\", replacement= \"\")) %>%\n",
    "    mutate(sample_id = gsub(sample_id,pattern = \"-VRC-Control-VRC\", replacement= \"\")) %>%\n",
    "    mutate(plate = as.factor(substr(sample_id,1,3))) %>%\n",
    "    mutate(sample = sample_id) %>%\n",
    "    mutate(sample_id = gsub(str_sub(sample_id,5,-2),pattern = \"-\", replacement= \".\")) -> \n",
    "phar\n",
    "\n",
    "phar %>% mutate(p_val_re = 10^-p_val) -> phar\n",
    "\n",
    "write.table(\"../data/PhARscores_dolphyn_pepsyn.csv\", sep = \",\", row.names = FALSE)"
   ]
  },
  {
   "cell_type": "code",
   "execution_count": null,
   "id": "79361b8a-ab88-4481-8e83-498b1d9816a1",
   "metadata": {},
   "outputs": [],
   "source": [
    "anno_pep = read.table(\"../data/PhageScan_PeptideAnno.tsv\", header = TRUE, sep = \"\\t\", row.names = 2, stringsAsFactors=FALSE)\n",
    "\n",
    "# Hit Foldchange Data\n",
    "fc194 <- read.table(\"../data/phipseq_0194_DolphynLa_001_Hits_foldchange.tsv\", header=TRUE, row.names = 1)\n",
    "fc195 <- read.table(\"../data/phipseq_0195_DolphynLa_001_Hits_foldchange.tsv\", header=TRUE, row.names = 1)\n",
    "\n",
    "cbind(fc194, fc195) %>% select(!contains(\"BEADS_ONLY\")) -> fc\n",
    "fc[rownames(anno_pep),] %>% log() -> lfc_org\n",
    "\n",
    "# cleaning up sample names\n",
    "anno_samples = data.frame(org = colnames(lfc_org))\n",
    "anno_samples = cbind(anno_samples, str_split_fixed(anno_samples$org, \"\\\\.\",4))\n",
    "anno_samples$sampleID = anno_samples$`4`\n",
    "anno_samples %>% mutate(sampleID = gsub(\"Pre.Therapy_.\", \"\", sampleID)) %>% mutate(sampleID = gsub(\".20A20G.1\", \"\", sampleID)) %>% \n",
    "                mutate(sampleID = gsub(\".20A20G\", \"\", sampleID)) %>% mutate(sampleID = gsub(\"VRC.\", \"\", sampleID)) %>% \n",
    "                mutate(sampleID = gsub(\"IBD.Control.\", \"\", sampleID)) %>% mutate(sampleID = gsub(\"_\", \"\", sampleID)) -> anno_samples\n",
    "colnames(lfc_org) = paste0(anno_samples$sampleID,anno_samples$`1`)\n",
    "\n",
    "phar %>% select(sample) %>% unique() %>% sapply(convert_samplenames) %>%  as.list %>% unlist -> healthy_samples\n",
    "lfc_org %>% select(all_of(healthy_samples)) %>%  write.table(\"../data/PhageScan_peptide_logHFC.csv\", sep = \",\")"
   ]
  },
  {
   "cell_type": "code",
   "execution_count": null,
   "id": "7157c4ac-8137-4a5d-82c3-1e82a31c3b2b",
   "metadata": {},
   "outputs": [],
   "source": [
    "meta = read.table(\"../data/Helmsley_VRC_metadata_121721.csv\", header = TRUE, sep = \",\", row.names = 1)\n",
    "meta[,c(\"Age\",\"Sex\",\"Race\")] %>% rownames_to_column(\"sample_id\") -> meta\n",
    "phar %>% select(sample_id) %>% unique() %>% as.list %>% unlist -> healthy_samples\n",
    "meta %>% subset(sample_id %in% healthy_samples) %>%  write.table(\"../data/PhageScan_sampleAnnotation.csv\", sep = \",\")"
   ]
  }
 ],
 "metadata": {
  "kernelspec": {
   "display_name": "R",
   "language": "R",
   "name": "ir"
  },
  "language_info": {
   "codemirror_mode": "r",
   "file_extension": ".r",
   "mimetype": "text/x-r-source",
   "name": "R",
   "pygments_lexer": "r",
   "version": "3.6.3"
  }
 },
 "nbformat": 4,
 "nbformat_minor": 5
}
