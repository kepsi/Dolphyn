{
 "cells": [
  {
   "cell_type": "code",
   "execution_count": null,
   "id": "6bb918f9-5cf2-46e4-9bdc-a69d58e21dd6",
   "metadata": {},
   "outputs": [],
   "source": [
    "library(dplyr)"
   ]
  },
  {
   "cell_type": "code",
   "execution_count": 1,
   "id": "1b679c2d-ec40-4a81-87ae-ae1f4d759b5f",
   "metadata": {},
   "outputs": [
    {
     "name": "stderr",
     "output_type": "stream",
     "text": [
      "Warning message in gzfile(file, \"rb\"):\n",
      "“cannot open compressed file '../data/phip194_PhARscores_dolphyn.rds', probable reason 'No such file or directory'”\n"
     ]
    },
    {
     "ename": "ERROR",
     "evalue": "Error in gzfile(file, \"rb\"): cannot open the connection\n",
     "output_type": "error",
     "traceback": [
      "Error in gzfile(file, \"rb\"): cannot open the connection\nTraceback:\n",
      "1. readRDS(paste0(\"../data/phip194_PhARscores_dolphyn.rds\"))",
      "2. gzfile(file, \"rb\")"
     ]
    }
   ],
   "source": [
    "# org filenames: PhARscore/20230123 - phip195_PhARscores_pepsyn - max 7 iterations.rds\n",
    "# etc\n",
    "phar_dolphyn_194 = readRDS(paste0(\"../data/phip194_PhARscores_dolphyn.rds\"))\n",
    "phar_dolphyn_195 = readRDS(paste0(\"../data/phip195_PhARscores_dolphyn.rds\"))\n",
    "phar = rbind(phar_dolphyn_194,phar_dolphyn_195) %>% mutate(library = \"dolphyn\") \n",
    "\n",
    "phar_pepsyn_194 = readRDS(paste0(\"../data/phip194_PhARscores_pepsyn.rds\"))\n",
    "phar_pepsyn_195 = readRDS(paste0(\"../data/phip195_PhARscores_pepsyn.rds\"))\n",
    "rbind(phar_pepsyn_194,phar_pepsyn_195) %>% mutate(library = \"pepsyn\") %>%\n",
    "rbind(phar) -> phar\n",
    "\n",
    "phar %>%\n",
    "    mutate(sample_id = gsub(sample_id,pattern = \"-20A20G-\", replacement= \"\")) %>%\n",
    "    mutate(sample_id = gsub(sample_id,pattern = \"-VRC-Control-VRC\", replacement= \"\")) %>%\n",
    "    mutate(plate = as.factor(substr(sample_id,1,3))) %>%\n",
    "    mutate(sample = sample_id) %>%\n",
    "    mutate(sample_id = gsub(str_sub(sample_id,5,-2),pattern = \"-\", replacement= \".\")) -> \n",
    "phar\n",
    "\n",
    "phar %>% mutate(p_val_re = 10^-p_val) -> phar\n",
    "\n",
    "write.table(\"../data/PhARscores_dolphyn_pepsyn.csv\", sep = \",\", row.names = FALSE)"
   ]
  },
  {
   "cell_type": "code",
   "execution_count": null,
   "id": "79361b8a-ab88-4481-8e83-498b1d9816a1",
   "metadata": {},
   "outputs": [],
   "source": []
  }
 ],
 "metadata": {
  "kernelspec": {
   "display_name": "R",
   "language": "R",
   "name": "ir"
  },
  "language_info": {
   "codemirror_mode": "r",
   "file_extension": ".r",
   "mimetype": "text/x-r-source",
   "name": "R",
   "pygments_lexer": "r",
   "version": "3.6.3"
  }
 },
 "nbformat": 4,
 "nbformat_minor": 5
}
